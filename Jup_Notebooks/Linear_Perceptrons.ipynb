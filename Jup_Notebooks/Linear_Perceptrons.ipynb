{
 "cells": [
  {
   "cell_type": "code",
   "execution_count": 821,
   "metadata": {},
   "outputs": [],
   "source": [
    "# establishes training data and truth data\n",
    "training_set = [[1,0,0],[1,0,1],[1,1,0],[1,1,1]]\n",
    "truth_set = [1,1,1,-1]\n",
    "# set weights\n",
    "weights = [0.2,0.2,0.2]\n",
    "# learning rate\n",
    "Learn_rate = 0.1"
   ]
  },
  {
   "cell_type": "code",
   "execution_count": 822,
   "metadata": {},
   "outputs": [],
   "source": [
    "def predict(row,true,weights):\n",
    "    updated_weights = [0,0,0] #updated weight values\n",
    "    update_val = 0 #update value\n",
    "    pred_val = 0 # predicted value for this row\n",
    "    pred_total = 0 # total Dot product of the row\n",
    "    for i in range(len(row)): #iterates through the selected row, calculates dot product, uses step function\n",
    "        pred_total = pred_total + weights[i]*row[i] # step function\n",
    "    if pred_total > 0: #checks to see if prediction total is > or <= 0\n",
    "        pred_val = 1\n",
    "    elif pred_total < 0 or pred_total == 0:\n",
    "        pred_val = -1\n",
    "    if pred_val != true: # if pred_val is not equal to the true value\n",
    "        for i in range(len(row)):\n",
    "            update_val = Learn_rate*((true-pred_val)*row[i]) # calculates delta\n",
    "            updated_weights[i] = update_val # adds updated values to updated_weight list\n",
    "            update_val = 0\n",
    "    return updated_weights #returns updated values to add to weights"
   ]
  },
  {
   "cell_type": "code",
   "execution_count": 823,
   "metadata": {},
   "outputs": [
    {
     "name": "stdout",
     "output_type": "stream",
     "text": [
      "Number of epochs: 10\n",
      "New weights [0.4000000000000001, -0.4, -0.2]\n"
     ]
    }
   ],
   "source": [
    "epoch = 0\n",
    "while epoch < 10:\n",
    "    for row in range(len(training_set)): #iterates through each row of the training set \n",
    "        grab_row = training_set[row]\n",
    "        true = truth_set[row] # true value for this row\n",
    "        new_weights = predict(grab_row,true,weights) #creates new weights from predict function\n",
    "        new = [] \n",
    "        for i in range(0, len(new_weights)): #iterates through and addes updated weight values to weight values\n",
    "            new.append(weights[i] + new_weights[i])\n",
    "        weights = new\n",
    "\n",
    "    epoch +=1\n",
    "print(\"Number of epochs:\", epoch)\n",
    "print(\"New weights\",weights)"
   ]
  },
  {
   "cell_type": "code",
   "execution_count": null,
   "metadata": {},
   "outputs": [],
   "source": []
  }
 ],
 "metadata": {
  "kernelspec": {
   "display_name": "Python 3",
   "language": "python",
   "name": "python3"
  },
  "language_info": {
   "codemirror_mode": {
    "name": "ipython",
    "version": 3
   },
   "file_extension": ".py",
   "mimetype": "text/x-python",
   "name": "python",
   "nbconvert_exporter": "python",
   "pygments_lexer": "ipython3",
   "version": "3.7.4"
  }
 },
 "nbformat": 4,
 "nbformat_minor": 2
}
