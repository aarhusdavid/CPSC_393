{
 "cells": [
  {
   "cell_type": "code",
   "execution_count": 53,
   "metadata": {},
   "outputs": [
    {
     "name": "stdout",
     "output_type": "stream",
     "text": [
      "[*********************100%***********************]  1 of 1 completed\n",
      "[*********************100%***********************]  1 of 1 completed\n",
      "                 MSFT        ^GSPC\n",
      "Date                              \n",
      "2015-07-07  40.092571  2081.340088\n",
      "2015-07-08  40.038265  2046.680054\n",
      "2015-07-09  40.291676  2051.310059\n",
      "2015-07-10  40.373127  2076.620117\n",
      "2015-07-13  41.214806  2099.600098\n",
      "                MSFT     ^GSPC\n",
      "Date                          \n",
      "2015-07-08 -0.001355 -0.016653\n",
      "2015-07-09  0.006329  0.002262\n",
      "2015-07-10  0.002022  0.012338\n",
      "2015-07-13  0.020847  0.011066\n",
      "2015-07-14  0.001756  0.004453\n"
     ]
    }
   ],
   "source": [
    "# import libraries\n",
    "import pandas as pd\n",
    "import statsmodels.api as sm\n",
    "import yfinance as yf\n",
    "import numpy as np\n",
    "import datetime\n",
    "\n",
    "# Get the data for the stock Apple by specifying the stock ticker, start date, and end date\n",
    "ticker = ['MSFT']\n",
    "market = ['^GSPC']\n",
    "\n",
    "today = datetime.datetime.now().strftime('%Y-%m-%m')\n",
    "fiveYear = (datetime.datetime.now() - datetime.timedelta(days=1825)).strftime('%Y-%m-%m')\n",
    "\n",
    "fbdata = yf.download(tickers=ticker, start = fiveYear, end = today)\n",
    "fbdataPd = pd.DataFrame(fbdata)\n",
    "fb = fbdataPd[['Adj Close']]\n",
    "\n",
    "marketdata = yf.download(tickers=market, start = fiveYear, end = today)\n",
    "marketdataPd = pd.DataFrame(marketdata)\n",
    "sp_500 = marketdataPd[['Adj Close']]\n",
    "\n",
    "# joining the closing prices of the two datasets \n",
    "monthly_prices = pd.concat([fb['Adj Close'], sp_500['Adj Close']], axis=1)\n",
    "monthly_prices.columns = ['MSFT', '^GSPC']\n",
    "\n",
    "# check the head of the dataframe\n",
    "print(monthly_prices.head())\n",
    "\n",
    "# calculate monthly returns\n",
    "monthly_returns = monthly_prices.pct_change(1)\n",
    "clean_monthly_returns = monthly_returns.dropna(axis=0)  # drop first missing row\n",
    "print(clean_monthly_returns.head())"
   ]
  },
  {
   "cell_type": "code",
   "execution_count": 54,
   "metadata": {},
   "outputs": [
    {
     "name": "stdout",
     "output_type": "stream",
     "text": [
      "                            OLS Regression Results                            \n",
      "==============================================================================\n",
      "Dep. Variable:                   MSFT   R-squared:                       0.697\n",
      "Model:                            OLS   Adj. R-squared:                  0.696\n",
      "Method:                 Least Squares   F-statistic:                     2883.\n",
      "Date:                Thu, 16 Jul 2020   Prob (F-statistic):               0.00\n",
      "Time:                        20:43:32   Log-Likelihood:                 4065.7\n",
      "No. Observations:                1258   AIC:                            -8127.\n",
      "Df Residuals:                    1256   BIC:                            -8117.\n",
      "Df Model:                           1                                         \n",
      "Covariance Type:            nonrobust                                         \n",
      "==============================================================================\n",
      "                 coef    std err          t      P>|t|      [0.025      0.975]\n",
      "------------------------------------------------------------------------------\n",
      "const          0.0010      0.000      3.640      0.000       0.000       0.002\n",
      "^GSPC          1.1854      0.022     53.691      0.000       1.142       1.229\n",
      "==============================================================================\n",
      "Omnibus:                      305.528   Durbin-Watson:                   2.039\n",
      "Prob(Omnibus):                  0.000   Jarque-Bera (JB):             5677.146\n",
      "Skew:                           0.623   Prob(JB):                         0.00\n",
      "Kurtosis:                      13.332   Cond. No.                         81.9\n",
      "==============================================================================\n",
      "\n",
      "Warnings:\n",
      "[1] Standard Errors assume that the covariance matrix of the errors is correctly specified.\n"
     ]
    }
   ],
   "source": [
    "# split dependent and independent variable\n",
    "X = clean_monthly_returns['^GSPC']\n",
    "y = clean_monthly_returns['MSFT']\n",
    "\n",
    "# Add a constant to the independent value\n",
    "X1 = sm.add_constant(X)\n",
    "\n",
    "# make regression model \n",
    "model = sm.OLS(y, X1)\n",
    "\n",
    "# fit model and print results\n",
    "results = model.fit()\n",
    "print(results.summary())"
   ]
  },
  {
   "cell_type": "code",
   "execution_count": 49,
   "metadata": {},
   "outputs": [
    {
     "name": "stdout",
     "output_type": "stream",
     "text": [
      "1.1860634796696605\n"
     ]
    }
   ],
   "source": [
    "# alternatively scipy linear regression\n",
    "from scipy import stats\n",
    "slope, intercept, r_value, p_value, std_err = stats.linregress(X, y)\n",
    "\n",
    "print(slope)"
   ]
  },
  {
   "cell_type": "code",
   "execution_count": null,
   "metadata": {},
   "outputs": [],
   "source": []
  }
 ],
 "metadata": {
  "kernelspec": {
   "display_name": "Python 3",
   "language": "python",
   "name": "python3"
  },
  "language_info": {
   "codemirror_mode": {
    "name": "ipython",
    "version": 3
   },
   "file_extension": ".py",
   "mimetype": "text/x-python",
   "name": "python",
   "nbconvert_exporter": "python",
   "pygments_lexer": "ipython3",
   "version": "3.7.4"
  }
 },
 "nbformat": 4,
 "nbformat_minor": 2
}
