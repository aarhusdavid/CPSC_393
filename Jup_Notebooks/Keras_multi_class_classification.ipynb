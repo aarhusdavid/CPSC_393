{
 "cells": [
  {
   "cell_type": "code",
   "execution_count": 1,
   "metadata": {},
   "outputs": [
    {
     "name": "stderr",
     "output_type": "stream",
     "text": [
      "Using TensorFlow backend.\n"
     ]
    }
   ],
   "source": [
    "from keras.datasets import reuters"
   ]
  },
  {
   "cell_type": "code",
   "execution_count": 2,
   "metadata": {},
   "outputs": [],
   "source": [
    "(train_data, train_labels), (test_data, test_labels) = reuters.load_data(\n",
    "num_words=10000)"
   ]
  },
  {
   "cell_type": "code",
   "execution_count": 3,
   "metadata": {},
   "outputs": [
    {
     "data": {
      "text/plain": [
       "8982"
      ]
     },
     "execution_count": 3,
     "metadata": {},
     "output_type": "execute_result"
    }
   ],
   "source": [
    "len(train_data)"
   ]
  },
  {
   "cell_type": "code",
   "execution_count": 4,
   "metadata": {},
   "outputs": [
    {
     "data": {
      "text/plain": [
       "2246"
      ]
     },
     "execution_count": 4,
     "metadata": {},
     "output_type": "execute_result"
    }
   ],
   "source": [
    "len(test_data)"
   ]
  },
  {
   "cell_type": "code",
   "execution_count": 5,
   "metadata": {},
   "outputs": [],
   "source": [
    "word_index = reuters.get_word_index()\n",
    "reverse_word_index = dict([(value, key) for (key, value) in word_index.items()])\n",
    "decoded_newswire = ' '.join([reverse_word_index.get(i - 3, '?') for i in train_data[0]])"
   ]
  },
  {
   "cell_type": "code",
   "execution_count": 6,
   "metadata": {},
   "outputs": [],
   "source": [
    "import numpy as np"
   ]
  },
  {
   "cell_type": "code",
   "execution_count": 7,
   "metadata": {},
   "outputs": [],
   "source": [
    "def vectorize_sequences(sequences, dimension=10000):\n",
    "    results = np.zeros((len(sequences), dimension))\n",
    "    for i, sequence in enumerate(sequences):\n",
    "        results[i, sequence] = 1.\n",
    "    return results"
   ]
  },
  {
   "cell_type": "code",
   "execution_count": 8,
   "metadata": {},
   "outputs": [],
   "source": [
    "x_train = vectorize_sequences(train_data)\n",
    "x_test = vectorize_sequences(test_data)"
   ]
  },
  {
   "cell_type": "code",
   "execution_count": 9,
   "metadata": {},
   "outputs": [],
   "source": [
    "def to_one_hot(labels, dimension=46):\n",
    "    results = np.zeros((len(labels), dimension))\n",
    "    for i, label in enumerate(labels):\n",
    "        results[i, label] = 1.\n",
    "    return results"
   ]
  },
  {
   "cell_type": "code",
   "execution_count": 10,
   "metadata": {},
   "outputs": [],
   "source": [
    "one_hot_train_labels = to_one_hot(train_labels)\n",
    "one_hot_test_labels = to_one_hot(test_labels)"
   ]
  },
  {
   "cell_type": "code",
   "execution_count": 11,
   "metadata": {},
   "outputs": [],
   "source": [
    "from keras.utils.np_utils import to_categorical"
   ]
  },
  {
   "cell_type": "code",
   "execution_count": 12,
   "metadata": {},
   "outputs": [],
   "source": [
    "one_hot_train_labels = to_categorical(train_labels)\n",
    "one_hot_test_labels = to_categorical(test_labels)"
   ]
  },
  {
   "cell_type": "code",
   "execution_count": 13,
   "metadata": {},
   "outputs": [],
   "source": [
    "from keras import models\n",
    "from keras import layers"
   ]
  },
  {
   "cell_type": "code",
   "execution_count": 14,
   "metadata": {},
   "outputs": [],
   "source": [
    "model = models.Sequential()\n",
    "model.add(layers.Dense(64, activation='relu', input_shape=(10000,)))\n",
    "model.add(layers.Dense(64, activation='relu'))\n",
    "model.add(layers.Dense(46, activation='softmax'))"
   ]
  },
  {
   "cell_type": "code",
   "execution_count": 15,
   "metadata": {},
   "outputs": [],
   "source": [
    "model.compile(optimizer='rmsprop',\n",
    "    loss='categorical_crossentropy',\n",
    "    metrics=['accuracy'])"
   ]
  },
  {
   "cell_type": "code",
   "execution_count": 16,
   "metadata": {},
   "outputs": [],
   "source": [
    "x_val = x_train[:1000]\n",
    "partial_x_train = x_train[1000:]\n",
    "y_val = one_hot_train_labels[:1000]\n",
    "partial_y_train = one_hot_train_labels[1000:]"
   ]
  },
  {
   "cell_type": "code",
   "execution_count": 17,
   "metadata": {},
   "outputs": [
    {
     "name": "stdout",
     "output_type": "stream",
     "text": [
      "Train on 7982 samples, validate on 1000 samples\n",
      "Epoch 1/20\n",
      "7982/7982 [==============================] - 3s 361us/step - loss: 2.6592 - accuracy: 0.5482 - val_loss: 1.7296 - val_accuracy: 0.6340\n",
      "Epoch 2/20\n",
      "7982/7982 [==============================] - 2s 229us/step - loss: 1.4304 - accuracy: 0.7011 - val_loss: 1.3144 - val_accuracy: 0.7060\n",
      "Epoch 3/20\n",
      "7982/7982 [==============================] - 1s 186us/step - loss: 1.0692 - accuracy: 0.7662 - val_loss: 1.1484 - val_accuracy: 0.7480\n",
      "Epoch 4/20\n",
      "7982/7982 [==============================] - 1s 165us/step - loss: 0.8525 - accuracy: 0.8171 - val_loss: 1.0499 - val_accuracy: 0.7740\n",
      "Epoch 5/20\n",
      "7982/7982 [==============================] - 1s 156us/step - loss: 0.6813 - accuracy: 0.8571 - val_loss: 1.0069 - val_accuracy: 0.7770\n",
      "Epoch 6/20\n",
      "7982/7982 [==============================] - 1s 160us/step - loss: 0.5470 - accuracy: 0.8891 - val_loss: 0.9274 - val_accuracy: 0.8080\n",
      "Epoch 7/20\n",
      "7982/7982 [==============================] - 2s 200us/step - loss: 0.4381 - accuracy: 0.9088 - val_loss: 0.9333 - val_accuracy: 0.7960\n",
      "Epoch 8/20\n",
      "7982/7982 [==============================] - 1s 186us/step - loss: 0.3548 - accuracy: 0.9252 - val_loss: 0.8969 - val_accuracy: 0.8120\n",
      "Epoch 9/20\n",
      "7982/7982 [==============================] - 1s 157us/step - loss: 0.2940 - accuracy: 0.9357 - val_loss: 0.9235 - val_accuracy: 0.8100\n",
      "Epoch 10/20\n",
      "7982/7982 [==============================] - 2s 218us/step - loss: 0.2506 - accuracy: 0.9437 - val_loss: 0.9225 - val_accuracy: 0.8130\n",
      "Epoch 11/20\n",
      "7982/7982 [==============================] - 2s 197us/step - loss: 0.2152 - accuracy: 0.9469 - val_loss: 0.9048 - val_accuracy: 0.8280\n",
      "Epoch 12/20\n",
      "7982/7982 [==============================] - 1s 151us/step - loss: 0.1886 - accuracy: 0.9496 - val_loss: 0.9886 - val_accuracy: 0.7910\n",
      "Epoch 13/20\n",
      "7982/7982 [==============================] - 1s 160us/step - loss: 0.1710 - accuracy: 0.9529 - val_loss: 0.9492 - val_accuracy: 0.8170\n",
      "Epoch 14/20\n",
      "7982/7982 [==============================] - 1s 168us/step - loss: 0.1509 - accuracy: 0.9572 - val_loss: 1.0291 - val_accuracy: 0.8080\n",
      "Epoch 15/20\n",
      "7982/7982 [==============================] - 1s 176us/step - loss: 0.1443 - accuracy: 0.9536 - val_loss: 0.9922 - val_accuracy: 0.8100\n",
      "Epoch 16/20\n",
      "7982/7982 [==============================] - 2s 199us/step - loss: 0.1361 - accuracy: 0.9558 - val_loss: 1.0216 - val_accuracy: 0.8130\n",
      "Epoch 17/20\n",
      "7982/7982 [==============================] - 1s 133us/step - loss: 0.1287 - accuracy: 0.9553 - val_loss: 1.0325 - val_accuracy: 0.8150\n",
      "Epoch 18/20\n",
      "7982/7982 [==============================] - 2s 188us/step - loss: 0.1226 - accuracy: 0.9569 - val_loss: 1.0791 - val_accuracy: 0.8020\n",
      "Epoch 19/20\n",
      "7982/7982 [==============================] - 1s 144us/step - loss: 0.1136 - accuracy: 0.9574 - val_loss: 1.0941 - val_accuracy: 0.8010\n",
      "Epoch 20/20\n",
      "7982/7982 [==============================] - 1s 161us/step - loss: 0.1188 - accuracy: 0.9557 - val_loss: 1.1030 - val_accuracy: 0.7950\n"
     ]
    }
   ],
   "source": [
    "history = model.fit(partial_x_train,\n",
    "    partial_y_train,\n",
    "    epochs=20,\n",
    "    batch_size=512,\n",
    "    validation_data=(x_val, y_val))"
   ]
  },
  {
   "cell_type": "code",
   "execution_count": 18,
   "metadata": {},
   "outputs": [],
   "source": [
    "import matplotlib.pyplot as plt"
   ]
  },
  {
   "cell_type": "code",
   "execution_count": 19,
   "metadata": {},
   "outputs": [],
   "source": [
    "loss = history.history['loss']\n",
    "val_loss = history.history['val_loss']"
   ]
  },
  {
   "cell_type": "code",
   "execution_count": 20,
   "metadata": {},
   "outputs": [],
   "source": [
    "epochs = range(1, len(loss) + 1)"
   ]
  },
  {
   "cell_type": "code",
   "execution_count": 21,
   "metadata": {},
   "outputs": [
    {
     "data": {
      "image/png": "[encoded data removed]",
      "text/plain": [
       "<Figure size 432x288 with 1 Axes>"
      ]
     },
     "metadata": {
      "needs_background": "light"
     },
     "output_type": "display_data"
    }
   ],
   "source": [
    "plt.plot(epochs, loss, 'bo', label='Training loss')\n",
    "plt.plot(epochs, val_loss, 'b', label='Validation loss')\n",
    "plt.title('Training and validation loss')\n",
    "plt.xlabel('Epochs')\n",
    "plt.ylabel('Loss')\n",
    "plt.legend()\n",
    "plt.show()"
   ]
  },
  {
   "cell_type": "code",
   "execution_count": 22,
   "metadata": {},
   "outputs": [
    {
     "data": {
      "text/plain": [
       "<Figure size 432x288 with 0 Axes>"
      ]
     },
     "metadata": {},
     "output_type": "display_data"
    }
   ],
   "source": [
    "plt.clf()"
   ]
  },
  {
   "cell_type": "code",
   "execution_count": 23,
   "metadata": {},
   "outputs": [
    {
     "data": {
      "text/plain": [
       "{'val_loss': [1.7296314630508423,\n",
       "  1.3143783559799194,\n",
       "  1.148381199836731,\n",
       "  1.0499349269866944,\n",
       "  1.0069418153762817,\n",
       "  0.9273839859962464,\n",
       "  0.9333410902023316,\n",
       "  0.8969438114166259,\n",
       "  0.9235312509536743,\n",
       "  0.9224817461967468,\n",
       "  0.9047740097045899,\n",
       "  0.9885726871490479,\n",
       "  0.9492101078033447,\n",
       "  1.0291245527267456,\n",
       "  0.9921629066467286,\n",
       "  1.0215538501739503,\n",
       "  1.0325087127685546,\n",
       "  1.0791216764450073,\n",
       "  1.094110577583313,\n",
       "  1.1029663257598876],\n",
       " 'val_accuracy': [0.6340000033378601,\n",
       "  0.7059999704360962,\n",
       "  0.7480000257492065,\n",
       "  0.7739999890327454,\n",
       "  0.7770000100135803,\n",
       "  0.8080000281333923,\n",
       "  0.7960000038146973,\n",
       "  0.8119999766349792,\n",
       "  0.8100000023841858,\n",
       "  0.8130000233650208,\n",
       "  0.828000009059906,\n",
       "  0.7910000085830688,\n",
       "  0.8169999718666077,\n",
       "  0.8080000281333923,\n",
       "  0.8100000023841858,\n",
       "  0.8130000233650208,\n",
       "  0.8149999976158142,\n",
       "  0.8019999861717224,\n",
       "  0.8009999990463257,\n",
       "  0.7950000166893005],\n",
       " 'loss': [2.659204874382793,\n",
       "  1.4303665843054156,\n",
       "  1.0691854472866456,\n",
       "  0.8524621386660636,\n",
       "  0.6812578270053601,\n",
       "  0.546991427226701,\n",
       "  0.438121194291073,\n",
       "  0.35475325955540515,\n",
       "  0.2940453765939513,\n",
       "  0.2506401197962879,\n",
       "  0.21523177209682437,\n",
       "  0.18855245952407867,\n",
       "  0.17101657749775567,\n",
       "  0.15087787341396483,\n",
       "  0.1443174129603531,\n",
       "  0.13611952308588715,\n",
       "  0.12867486930168293,\n",
       "  0.12262101155180466,\n",
       "  0.11363217851043912,\n",
       "  0.11882588019409265],\n",
       " 'accuracy': [0.5482335,\n",
       "  0.7010774,\n",
       "  0.766224,\n",
       "  0.8170884,\n",
       "  0.8570534,\n",
       "  0.8891255,\n",
       "  0.90879476,\n",
       "  0.9252067,\n",
       "  0.9357304,\n",
       "  0.9437484,\n",
       "  0.94688046,\n",
       "  0.9496367,\n",
       "  0.95289403,\n",
       "  0.9571536,\n",
       "  0.9536457,\n",
       "  0.9557755,\n",
       "  0.95527434,\n",
       "  0.95690304,\n",
       "  0.95740414,\n",
       "  0.9556502]}"
      ]
     },
     "execution_count": 23,
     "metadata": {},
     "output_type": "execute_result"
    }
   ],
   "source": [
    "history.history"
   ]
  },
  {
   "cell_type": "code",
   "execution_count": 24,
   "metadata": {},
   "outputs": [],
   "source": [
    "acc = history.history['accuracy']\n",
    "val_acc = history.history['val_accuracy']"
   ]
  },
  {
   "cell_type": "code",
   "execution_count": 25,
   "metadata": {},
   "outputs": [
    {
     "data": {
      "image/png": "[encoded data removed]",
      "text/plain": [
       "<Figure size 432x288 with 1 Axes>"
      ]
     },
     "metadata": {
      "needs_background": "light"
     },
     "output_type": "display_data"
    }
   ],
   "source": [
    "plt.plot(epochs, acc, 'bo', label='Training acc')\n",
    "plt.plot(epochs, val_acc, 'b', label='Validation acc')\n",
    "plt.title('Training and validation accuracy')\n",
    "plt.xlabel('Epochs')\n",
    "plt.ylabel('Loss')\n",
    "plt.legend()\n",
    "plt.show()"
   ]
  },
  {
   "cell_type": "code",
   "execution_count": 26,
   "metadata": {},
   "outputs": [
    {
     "name": "stdout",
     "output_type": "stream",
     "text": [
      "Train on 7982 samples, validate on 1000 samples\n",
      "Epoch 1/9\n",
      "7982/7982 [==============================] - 2s 246us/step - loss: 2.7233 - accuracy: 0.5049 - val_loss: 1.8232 - val_accuracy: 0.6360\n",
      "Epoch 2/9\n",
      "7982/7982 [==============================] - 1s 162us/step - loss: 1.4858 - accuracy: 0.7080 - val_loss: 1.3503 - val_accuracy: 0.7080\n",
      "Epoch 3/9\n",
      "7982/7982 [==============================] - 2s 208us/step - loss: 1.0945 - accuracy: 0.7749 - val_loss: 1.1746 - val_accuracy: 0.7510\n",
      "Epoch 4/9\n",
      "7982/7982 [==============================] - 1s 149us/step - loss: 0.8756 - accuracy: 0.8242 - val_loss: 1.0795 - val_accuracy: 0.7680\n",
      "Epoch 5/9\n",
      "7982/7982 [==============================] - 1s 127us/step - loss: 0.7073 - accuracy: 0.8577 - val_loss: 1.0157 - val_accuracy: 0.7970\n",
      "Epoch 6/9\n",
      "7982/7982 [==============================] - 1s 155us/step - loss: 0.5749 - accuracy: 0.8810 - val_loss: 0.9778 - val_accuracy: 0.8040\n",
      "Epoch 7/9\n",
      "7982/7982 [==============================] - 1s 166us/step - loss: 0.4613 - accuracy: 0.9039 - val_loss: 0.9458 - val_accuracy: 0.8080\n",
      "Epoch 8/9\n",
      "7982/7982 [==============================] - 1s 180us/step - loss: 0.3791 - accuracy: 0.9186 - val_loss: 0.9534 - val_accuracy: 0.8030\n",
      "Epoch 9/9\n",
      "7982/7982 [==============================] - 1s 158us/step - loss: 0.3132 - accuracy: 0.9335 - val_loss: 0.9438 - val_accuracy: 0.8120\n",
      "2246/2246 [==============================] - 1s 255us/step\n"
     ]
    }
   ],
   "source": [
    "model = models.Sequential()\n",
    "model.add(layers.Dense(64, activation='relu', input_shape=(10000,)))\n",
    "model.add(layers.Dense(64, activation='relu'))\n",
    "model.add(layers.Dense(46, activation='softmax'))\n",
    "model.compile(optimizer='rmsprop',\n",
    "    loss='categorical_crossentropy',\n",
    "    metrics=['accuracy'])\n",
    "model.fit(partial_x_train,\n",
    "    partial_y_train,\n",
    "    epochs=9,\n",
    "    batch_size=512,\n",
    "    validation_data=(x_val, y_val))\n",
    "results = model.evaluate(x_test, one_hot_test_labels)"
   ]
  },
  {
   "cell_type": "code",
   "execution_count": 27,
   "metadata": {},
   "outputs": [
    {
     "data": {
      "text/plain": [
       "[0.9824172178762679, 0.7831701040267944]"
      ]
     },
     "execution_count": 27,
     "metadata": {},
     "output_type": "execute_result"
    }
   ],
   "source": [
    "results"
   ]
  },
  {
   "cell_type": "code",
   "execution_count": 28,
   "metadata": {},
   "outputs": [],
   "source": [
    " import copy"
   ]
  },
  {
   "cell_type": "code",
   "execution_count": 30,
   "metadata": {},
   "outputs": [],
   "source": [
    " test_labels_copy = copy.copy(test_labels)\n",
    " np.random.shuffle(test_labels_copy)\n",
    " hits_array = np.array(test_labels) == np.array(test_labels_copy)"
   ]
  },
  {
   "cell_type": "code",
   "execution_count": 31,
   "metadata": {},
   "outputs": [
    {
     "data": {
      "text/plain": [
       "0.19590382902938558"
      ]
     },
     "execution_count": 31,
     "metadata": {},
     "output_type": "execute_result"
    }
   ],
   "source": [
    " float(np.sum(hits_array)) / len(test_labels)"
   ]
  },
  {
   "cell_type": "code",
   "execution_count": 32,
   "metadata": {},
   "outputs": [],
   "source": [
    "#Generating predictions on new data\n",
    "predictions = model.predict(x_test)"
   ]
  },
  {
   "cell_type": "code",
   "execution_count": 33,
   "metadata": {},
   "outputs": [],
   "source": [
    "y_train = np.array(train_labels)\n",
    "y_test = np.array(test_labels)"
   ]
  },
  {
   "cell_type": "code",
   "execution_count": 34,
   "metadata": {},
   "outputs": [],
   "source": [
    "model.compile(optimizer='rmsprop',\n",
    "    loss='sparse_categorical_crossentropy',\n",
    "    metrics=['acc'])"
   ]
  },
  {
   "cell_type": "code",
   "execution_count": 35,
   "metadata": {},
   "outputs": [
    {
     "name": "stdout",
     "output_type": "stream",
     "text": [
      "Train on 7982 samples, validate on 1000 samples\n",
      "Epoch 1/20\n",
      "7982/7982 [==============================] - 2s 308us/step - loss: 2.7979 - accuracy: 0.3810 - val_loss: 2.0128 - val_accuracy: 0.5470\n",
      "Epoch 2/20\n",
      "7982/7982 [==============================] - 2s 209us/step - loss: 1.6770 - accuracy: 0.6012 - val_loss: 1.5230 - val_accuracy: 0.6260\n",
      "Epoch 3/20\n",
      "7982/7982 [==============================] - 1s 173us/step - loss: 1.3283 - accuracy: 0.6649 - val_loss: 1.3883 - val_accuracy: 0.6580\n",
      "Epoch 4/20\n",
      "7982/7982 [==============================] - 1s 174us/step - loss: 1.1574 - accuracy: 0.6934 - val_loss: 1.3269 - val_accuracy: 0.6710\n",
      "Epoch 5/20\n",
      "7982/7982 [==============================] - 1s 174us/step - loss: 1.0278 - accuracy: 0.7278 - val_loss: 1.3009 - val_accuracy: 0.6780\n",
      "Epoch 6/20\n",
      "7982/7982 [==============================] - 1s 173us/step - loss: 0.9264 - accuracy: 0.7548 - val_loss: 1.2731 - val_accuracy: 0.6930\n",
      "Epoch 7/20\n",
      "7982/7982 [==============================] - 1s 170us/step - loss: 0.8418 - accuracy: 0.7725 - val_loss: 1.2761 - val_accuracy: 0.7030\n",
      "Epoch 8/20\n",
      "7982/7982 [==============================] - 1s 178us/step - loss: 0.7761 - accuracy: 0.7884 - val_loss: 1.3219 - val_accuracy: 0.6920\n",
      "Epoch 9/20\n",
      "7982/7982 [==============================] - 1s 177us/step - loss: 0.7177 - accuracy: 0.8088 - val_loss: 1.3063 - val_accuracy: 0.7050\n",
      "Epoch 10/20\n",
      "7982/7982 [==============================] - 2s 198us/step - loss: 0.6660 - accuracy: 0.8265 - val_loss: 1.3468 - val_accuracy: 0.7070\n",
      "Epoch 11/20\n",
      "7982/7982 [==============================] - 1s 175us/step - loss: 0.6224 - accuracy: 0.8369 - val_loss: 1.3706 - val_accuracy: 0.7040\n",
      "Epoch 12/20\n",
      "7982/7982 [==============================] - 1s 176us/step - loss: 0.5846 - accuracy: 0.8439 - val_loss: 1.3943 - val_accuracy: 0.7070\n",
      "Epoch 13/20\n",
      "7982/7982 [==============================] - 1s 173us/step - loss: 0.5541 - accuracy: 0.8504 - val_loss: 1.4672 - val_accuracy: 0.7070\n",
      "Epoch 14/20\n",
      "7982/7982 [==============================] - 1s 174us/step - loss: 0.5269 - accuracy: 0.8545 - val_loss: 1.5082 - val_accuracy: 0.7120\n",
      "Epoch 15/20\n",
      "7982/7982 [==============================] - 1s 172us/step - loss: 0.5011 - accuracy: 0.8617 - val_loss: 1.5499 - val_accuracy: 0.7150\n",
      "Epoch 16/20\n",
      "7982/7982 [==============================] - 1s 172us/step - loss: 0.4774 - accuracy: 0.8675 - val_loss: 1.7010 - val_accuracy: 0.6980\n",
      "Epoch 17/20\n",
      "7982/7982 [==============================] - 1s 176us/step - loss: 0.4560 - accuracy: 0.8710 - val_loss: 1.6481 - val_accuracy: 0.7120\n",
      "Epoch 18/20\n",
      "7982/7982 [==============================] - 1s 173us/step - loss: 0.4417 - accuracy: 0.8768 - val_loss: 1.7165 - val_accuracy: 0.7150\n",
      "Epoch 19/20\n",
      "7982/7982 [==============================] - 1s 174us/step - loss: 0.4248 - accuracy: 0.8821 - val_loss: 1.8122 - val_accuracy: 0.7070\n",
      "Epoch 20/20\n",
      "7982/7982 [==============================] - 1s 178us/step - loss: 0.4100 - accuracy: 0.8866 - val_loss: 1.8911 - val_accuracy: 0.7100\n"
     ]
    },
    {
     "data": {
      "text/plain": [
       "<keras.callbacks.callbacks.History at 0x7fde3a5edb10>"
      ]
     },
     "execution_count": 35,
     "metadata": {},
     "output_type": "execute_result"
    }
   ],
   "source": [
    "model = models.Sequential()\n",
    "model.add(layers.Dense(64, activation='relu', input_shape=(10000,)))\n",
    "model.add(layers.Dense(4, activation='relu'))\n",
    "model.add(layers.Dense(46, activation='softmax'))\n",
    "    \n",
    "model.compile(optimizer='rmsprop',\n",
    "    loss='categorical_crossentropy',\n",
    "    metrics=['accuracy'])\n",
    "model.fit(partial_x_train,\n",
    "    partial_y_train,\n",
    "    epochs=20,\n",
    "    batch_size=128,\n",
    "    validation_data=(x_val, y_val))"
   ]
  },
  {
   "cell_type": "code",
   "execution_count": null,
   "metadata": {},
   "outputs": [],
   "source": []
  },
  {
   "cell_type": "code",
   "execution_count": null,
   "metadata": {},
   "outputs": [],
   "source": []
  }
 ],
 "metadata": {
  "kernelspec": {
   "display_name": "Python 3",
   "language": "python",
   "name": "python3"
  },
  "language_info": {
   "codemirror_mode": {
    "name": "ipython",
    "version": 3
   },
   "file_extension": ".py",
   "mimetype": "text/x-python",
   "name": "python",
   "nbconvert_exporter": "python",
   "pygments_lexer": "ipython3",
   "version": "3.7.4"
  }
 },
 "nbformat": 4,
 "nbformat_minor": 2
}
