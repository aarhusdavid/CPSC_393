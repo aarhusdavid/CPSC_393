{
 "cells": [
  {
   "cell_type": "code",
   "execution_count": 63,
   "metadata": {},
   "outputs": [],
   "source": [
    "# Helping link\n",
    "# https://www.datacamp.com/community/tutorials/svm-classification-scikit-learn-python\n",
    "    # used tutorial code for training/test split, predictions, svm model, accuracy scores.\n",
    "    # however, wrote own algorithm for dot product. \n",
    "\n",
    "#Import scikit-learn dataset library\n",
    "from sklearn import datasets\n",
    "#Import svm model\n",
    "from sklearn import svm\n",
    "# Import train_test_split function\n",
    "from sklearn.model_selection import train_test_split\n",
    "#Import scikit-learn metrics module for accuracy calculation\n",
    "from sklearn import metrics\n",
    "# data manipulation\n",
    "import pandas as pd\n",
    "import math\n",
    "\n",
    "pd.set_option(\"display.max_rows\", None, \"display.max_columns\", None)"
   ]
  },
  {
   "cell_type": "code",
   "execution_count": 88,
   "metadata": {},
   "outputs": [],
   "source": [
    "#Load dataset\n",
    "path = \"/Users/DavidAarhus/Documents/CPSC_393/Iris.csv\"\n",
    "iris = pd.read_csv(path)\n",
    "#drop Id number, won't need it for dot product calculation\n",
    "del iris['Id']\n",
    "del iris['Species']"
   ]
  },
  {
   "cell_type": "code",
   "execution_count": 89,
   "metadata": {},
   "outputs": [],
   "source": [
    "# This forloop iterates through each row and calculates the dot product for each tuple \n",
    "    # by squaring each feature and adding it to a sum which then is sqrt'd and added to the iris_dot_product list \n",
    "    # which will be attached to the iris dataset, corresponding each dot_product with its correct tuple. \n",
    "iris_dot_product = []\n",
    "dot_sum = 0\n",
    "num = 0\n",
    "for i,j in iris.iterrows():\n",
    "    num = j[0]\n",
    "    dot_sum += num**2\n",
    "    num = j[1]\n",
    "    dot_sum += num**2\n",
    "    num = j[2]\n",
    "    dot_sum += num**2\n",
    "    num = j[3]\n",
    "    dot_sum += num**2\n",
    "    dot_sum = math.sqrt(dot_sum)\n",
    "    iris_dot_product.append(dot_sum)\n",
    "#print(iris_dot_product)"
   ]
  },
  {
   "cell_type": "code",
   "execution_count": 90,
   "metadata": {},
   "outputs": [],
   "source": [
    "# addes a new column to the dataset that lists the dot_product of \n",
    "    # the \"SepalLengthCm\",\"SepalWidthCm\",\"PetalLengthCm\", and \"PetalWidthCm\"\n",
    "    # for each tuple\n",
    "iris['Dot Product'] = iris_dot_product "
   ]
  },
  {
   "cell_type": "code",
   "execution_count": 91,
   "metadata": {},
   "outputs": [],
   "source": [
    "# changing the labels from \"Iris-setosa\" and \"Not-Iris-setosa\" to \"1\" and \"0\"\n",
    "yes = 1\n",
    "no = 0\n",
    "for i,j in iris.iterrows():\n",
    "    label = iris.at[i, \"Dot Product\"]\n",
    "    if label < 8.0:\n",
    "        iris.at[i, \"Dot Product\"] = \"1\"\n",
    "    elif label > 8.0:\n",
    "        iris.at[i, \"Dot Product\"] = \"0\""
   ]
  },
  {
   "cell_type": "code",
   "execution_count": 114,
   "metadata": {},
   "outputs": [],
   "source": [
    "# data excluding the classifying column\n",
    "data = iris[[\"SepalLengthCm\",\"SepalWidthCm\",\"PetalLengthCm\",\"PetalWidthCm\"]]"
   ]
  },
  {
   "cell_type": "code",
   "execution_count": 115,
   "metadata": {},
   "outputs": [],
   "source": [
    "# training set and test set\n",
    "X_train, X_test, y_train, y_test = train_test_split(data, iris[\"Dot Product\"], \n",
    "                                                    test_size=0.3,random_state=109) # 70% training and 30% test"
   ]
  },
  {
   "cell_type": "code",
   "execution_count": 116,
   "metadata": {},
   "outputs": [],
   "source": [
    "#Create a svm Classifier\n",
    "clf = svm.SVC(kernel='linear') # Linear Kernel"
   ]
  },
  {
   "cell_type": "code",
   "execution_count": 117,
   "metadata": {},
   "outputs": [
    {
     "data": {
      "text/plain": [
       "SVC(C=1.0, break_ties=False, cache_size=200, class_weight=None, coef0=0.0,\n",
       "    decision_function_shape='ovr', degree=3, gamma='scale', kernel='linear',\n",
       "    max_iter=-1, probability=False, random_state=None, shrinking=True,\n",
       "    tol=0.001, verbose=False)"
      ]
     },
     "execution_count": 117,
     "metadata": {},
     "output_type": "execute_result"
    }
   ],
   "source": [
    "#Train the model using the training sets\n",
    "clf.fit(X_train, y_train)"
   ]
  },
  {
   "cell_type": "code",
   "execution_count": 118,
   "metadata": {},
   "outputs": [],
   "source": [
    "#Predict the response for test dataset\n",
    "y_pred = clf.predict(X_test)"
   ]
  },
  {
   "cell_type": "code",
   "execution_count": 119,
   "metadata": {},
   "outputs": [
    {
     "name": "stdout",
     "output_type": "stream",
     "text": [
      "Accuracy: 0.9555555555555556\n"
     ]
    }
   ],
   "source": [
    "# Model Accuracy: how often is the classifier correct?\n",
    "print(\"Accuracy:\",metrics.accuracy_score(y_test, y_pred))"
   ]
  },
  {
   "cell_type": "code",
   "execution_count": 121,
   "metadata": {},
   "outputs": [
    {
     "name": "stdout",
     "output_type": "stream",
     "text": [
      "Precision: 1.0\n",
      "Recall: 0.8666666666666667\n"
     ]
    }
   ],
   "source": [
    "# Model Precision: what percentage of positive tuples are labeled as such?\n",
    "print(\"Precision:\",metrics.precision_score(y_test, y_pred))\n",
    " # Model Recall: what percentage of positive tuples are labelled as such?\n",
    "print(\"Recall:\",metrics.recall_score(y_test, y_pred))"
   ]
  },
  {
   "cell_type": "code",
   "execution_count": null,
   "metadata": {},
   "outputs": [],
   "source": [
    "# probably had a error in my calculation because my Precison was 1.0 \n",
    "    # but overall happy with what I did to classify the dataset"
   ]
  }
 ],
 "metadata": {
  "kernelspec": {
   "display_name": "Python 3",
   "language": "python",
   "name": "python3"
  },
  "language_info": {
   "codemirror_mode": {
    "name": "ipython",
    "version": 3
   },
   "file_extension": ".py",
   "mimetype": "text/x-python",
   "name": "python",
   "nbconvert_exporter": "python",
   "pygments_lexer": "ipython3",
   "version": "3.7.4"
  }
 },
 "nbformat": 4,
 "nbformat_minor": 2
}
