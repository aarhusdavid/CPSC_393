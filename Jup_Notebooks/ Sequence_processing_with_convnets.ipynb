{
 "cells": [
  {
   "cell_type": "code",
   "execution_count": 1,
   "metadata": {},
   "outputs": [
    {
     "name": "stderr",
     "output_type": "stream",
     "text": [
      "Using TensorFlow backend.\n"
     ]
    },
    {
     "name": "stdout",
     "output_type": "stream",
     "text": [
      "Loading data...\n",
      "25000 train sequences\n",
      "25000 test sequences\n",
      "Pad sequences (samples x time)\n",
      "x_train shape: (25000, 500)\n",
      "x_test shape: (25000, 500)\n"
     ]
    }
   ],
   "source": [
    "from keras.datasets import imdb\n",
    "from keras.preprocessing import sequence\n",
    "\n",
    "max_features = 10000\n",
    "max_len = 500\n",
    "\n",
    "print('Loading data...')\n",
    "(x_train, y_train), (x_test, y_test) = imdb.load_data(num_words=max_features)\n",
    "print(len(x_train), 'train sequences')\n",
    "print(len(x_test), 'test sequences')\n",
    "\n",
    "print('Pad sequences (samples x time)')\n",
    "x_train = sequence.pad_sequences(x_train, maxlen=max_len)\n",
    "x_test = sequence.pad_sequences(x_test, maxlen=max_len)\n",
    "print('x_train shape:', x_train.shape)\n",
    "print('x_test shape:', x_test.shape)"
   ]
  },
  {
   "cell_type": "code",
   "execution_count": 3,
   "metadata": {},
   "outputs": [],
   "source": [
    "# from keras.models import Sequential\n",
    "# from keras import layers\n",
    "# from keras.optimizers import RMSprop\n",
    "\n",
    "# model = Sequential()\n",
    "# model.add(layers.Embedding(max_features, 128, input_length=max_len))\n",
    "# model.add(layers.Conv1D(32, 7, activation='relu'))\n",
    "# model.add(layers.MaxPooling1D(5))\n",
    "# model.add(layers.Conv1D(32, 7, activation='relu'))\n",
    "# model.add(layers.GlobalMaxPooling1D())\n",
    "# model.add(layers.Dense(1))\n",
    "# model.summary()\n",
    "\n",
    "# model.compile(optimizer=RMSprop(lr=1e-4),\n",
    "#     loss='binary_crossentropy',\n",
    "#     metrics=['acc'])\n",
    "# history = model.fit(x_train, y_train,\n",
    "#     epochs=10,\n",
    "#     batch_size=128,\n",
    "#     validation_split=0.2)"
   ]
  },
  {
   "cell_type": "code",
   "execution_count": null,
   "metadata": {},
   "outputs": [],
   "source": [
    "# Combining CNNs and RNNs to process long sequences\n",
    "\n",
    "# training and evaluating a simple 1D convnet on the Jena data\n",
    "\n",
    "# from keras.models import Sequential\n",
    "# from keras import layers\n",
    "# from keras.optimizers import RMSprop\n",
    "\n",
    "# model = Sequential()\n",
    "# model.add(layers.Conv1D(32, 5, activation='relu',\n",
    "# input_shape=(None, float_data.shape[-1])))\n",
    "# model.add(layers.MaxPooling1D(3))\n",
    "# model.add(layers.Conv1D(32, 5, activation='relu'))\n",
    "# model.add(layers.MaxPooling1D(3))\n",
    "# model.add(layers.Conv1D(32, 5, activation='relu'))\n",
    "# model.add(layers.GlobalMaxPooling1D())\n",
    "# model.add(layers.Dense(1))\n",
    "\n",
    "# model.compile(optimizer=RMSprop(), loss='mae')\n",
    "# history = model.fit_generator(train_gen,\n",
    "#     steps_per_epoch=500,\n",
    "#     epochs=20,\n",
    "#     validation_data=val_gen,\n",
    "#     validation_steps=val_steps)"
   ]
  },
  {
   "cell_type": "code",
   "execution_count": null,
   "metadata": {},
   "outputs": [],
   "source": [
    "# 8 Preparing higher-resolution data generators for the Jena dataset\n",
    "\n",
    "# step = 3\n",
    "# lookback = 720\n",
    "# delay = 144\n",
    "# train_gen = generator(float_data,\n",
    "#     lookback=lookback,\n",
    "#     delay=delay,\n",
    "#     min_index=0,\n",
    "#     max_index=200000,\n",
    "#     shuffle=True,\n",
    "#     step=step)\n",
    "# val_gen = generator(float_data,\n",
    "#     lookback=lookback,\n",
    "#     delay=delay,\n",
    "#     min_index=200001,\n",
    "#     max_index=300000,\n",
    "#     step=step)\n",
    "# test_gen = generator(float_data,\n",
    "#     lookback=lookback,\n",
    "#     delay=delay,\n",
    "#     min_index=300001,\n",
    "#     max_index=None,\n",
    "#     step=step)\n",
    "# val_steps = (300000 - 200001 - lookback) // 128\n",
    "# test_steps = (len(float_data) - 300001 - lookback) // 128"
   ]
  },
  {
   "cell_type": "code",
   "execution_count": null,
   "metadata": {},
   "outputs": [],
   "source": [
    "# from keras.models import Sequential\n",
    "# from keras import layers\n",
    "# from keras.optimizers import RMSprop\n",
    "\n",
    "# model = Sequential()\n",
    "# model.add(layers.Conv1D(32, 5, activation='relu',\n",
    "#     input_shape=(None, float_data.shape[-1])))\n",
    "\n",
    "# model.add(layers.MaxPooling1D(3))\n",
    "# model.add(layers.Conv1D(32, 5, activation='relu'))\n",
    "# model.add(layers.GRU(32, dropout=0.1, recurrent_dropout=0.5))\n",
    "# model.add(layers.Dense(1))\n",
    "# model.summary()\n",
    "\n",
    "# model.compile(optimizer=RMSprop(), loss='mae')\n",
    "# history = model.fit_generator(train_gen,\n",
    "#     steps_per_epoch=500,\n",
    "#     epochs=20,\n",
    "#     validation_data=val_gen,\n",
    "#     validation_steps=val_steps)"
   ]
  }
 ],
 "metadata": {
  "kernelspec": {
   "display_name": "Python 3",
   "language": "python",
   "name": "python3"
  },
  "language_info": {
   "codemirror_mode": {
    "name": "ipython",
    "version": 3
   },
   "file_extension": ".py",
   "mimetype": "text/x-python",
   "name": "python",
   "nbconvert_exporter": "python",
   "pygments_lexer": "ipython3",
   "version": "3.7.4"
  }
 },
 "nbformat": 4,
 "nbformat_minor": 2
}
