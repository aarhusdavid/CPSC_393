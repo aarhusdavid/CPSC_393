{
 "cells": [
  {
   "cell_type": "code",
   "execution_count": 172,
   "metadata": {},
   "outputs": [],
   "source": [
    "import os, os.path, shutil\n",
    "from PIL import Image\n",
    "import keras.utils"
   ]
  },
  {
   "cell_type": "code",
   "execution_count": 173,
   "metadata": {},
   "outputs": [],
   "source": [
    "# directory to imported positive training images\n",
    "original_pos_train_dataset_dir = '/Users/Davidaarhus/Documents/CPSC_393/Project_images/images/positive_train' \n",
    "\n",
    "# directory to imported positive validation images\n",
    "original_post_validation_dataset_dir = '/Users/Davidaarhus/Documents/CPSC_393/Project_images/images/positive_validation' \n",
    "\n",
    "# directory to imported negative training images\n",
    "original_neg_train_dataset_dir = '/Users/Davidaarhus/Documents/CPSC_393/Project_images/images/negative_train' \n",
    "\n",
    "# directory to imported negative validation images\n",
    "original_neg_validation_dataset_dir = '/Users/Davidaarhus/Documents/CPSC_393/Project_images/images/negative_validation' \n",
    "\n",
    "base_dir = '/Users/Davidaarhus/Documents/CPSC_393/Project_datasets' # new directory for NN datasets\n",
    "os.mkdir(base_dir)"
   ]
  },
  {
   "cell_type": "markdown",
   "metadata": {},
   "source": [
    "# Creating image directories for Positive and Negative (train, test, validation)"
   ]
  },
  {
   "cell_type": "code",
   "execution_count": 174,
   "metadata": {},
   "outputs": [],
   "source": [
    "train_dir = os.path.join(base_dir, 'train') # creates train directory\n",
    "os.mkdir(train_dir)\n",
    "\n",
    "validation_dir = os.path.join(base_dir, 'validation') # creates validation directory\n",
    "os.mkdir(validation_dir)\n",
    "\n",
    "test_dir = os.path.join(base_dir, 'test') # creates test directory\n",
    "os.mkdir(test_dir)"
   ]
  },
  {
   "cell_type": "code",
   "execution_count": 175,
   "metadata": {},
   "outputs": [],
   "source": [
    "train_positive_dir = os.path.join(train_dir, 'positive') # directory with positive training pictures\n",
    "os.mkdir(train_positive_dir)\n",
    "\n",
    "train_negative_dir = os.path.join(train_dir, 'negative') # directory with negative training pictures\n",
    "os.mkdir(train_negative_dir)"
   ]
  },
  {
   "cell_type": "code",
   "execution_count": 176,
   "metadata": {},
   "outputs": [],
   "source": [
    "validation_positive_dir = os.path.join(validation_dir, 'positive') # directory with positive validation pictures\n",
    "os.mkdir(validation_positive_dir)\n",
    "\n",
    "validation_negative_dir = os.path.join(validation_dir, 'negative') # directory with negative validation pictures\n",
    "os.mkdir(validation_negative_dir)"
   ]
  },
  {
   "cell_type": "code",
   "execution_count": 177,
   "metadata": {},
   "outputs": [],
   "source": [
    "test_positive_test_dir = os.path.join(test_dir, 'positive') # directory with positive test pictures\n",
    "os.mkdir(test_positive_test_dir)\n",
    "\n",
    "test_negative_test_dir = os.path.join(test_dir, 'negative') # directory with negative test pictures\n",
    "os.mkdir(test_negative_test_dir)"
   ]
  },
  {
   "cell_type": "markdown",
   "metadata": {},
   "source": [
    "# Populating Positive image directories (train, test, validation)"
   ]
  },
  {
   "cell_type": "markdown",
   "metadata": {},
   "source": [
    "## Train"
   ]
  },
  {
   "cell_type": "code",
   "execution_count": 178,
   "metadata": {},
   "outputs": [
    {
     "ename": "FileNotFoundError",
     "evalue": "[Errno 2] No such file or directory: '/Users/Davidaarhus/Documents/CPSC_393/Project_images/images/positive_train/.jpg'",
     "output_type": "error",
     "traceback": [
      "\u001b[0;31m---------------------------------------------------------------------------\u001b[0m",
      "\u001b[0;31mFileNotFoundError\u001b[0m                         Traceback (most recent call last)",
      "\u001b[0;32m<ipython-input-178-31b72bb00405>\u001b[0m in \u001b[0;36m<module>\u001b[0;34m\u001b[0m\n\u001b[1;32m     22\u001b[0m     \u001b[0msrc\u001b[0m \u001b[0;34m=\u001b[0m \u001b[0mos\u001b[0m\u001b[0;34m.\u001b[0m\u001b[0mpath\u001b[0m\u001b[0;34m.\u001b[0m\u001b[0mjoin\u001b[0m\u001b[0;34m(\u001b[0m\u001b[0moriginal_pos_train_dataset_dir\u001b[0m\u001b[0;34m,\u001b[0m \u001b[0mpositive_name\u001b[0m\u001b[0;34m)\u001b[0m\u001b[0;34m\u001b[0m\u001b[0;34m\u001b[0m\u001b[0m\n\u001b[1;32m     23\u001b[0m     \u001b[0mdst\u001b[0m \u001b[0;34m=\u001b[0m \u001b[0mos\u001b[0m\u001b[0;34m.\u001b[0m\u001b[0mpath\u001b[0m\u001b[0;34m.\u001b[0m\u001b[0mjoin\u001b[0m\u001b[0;34m(\u001b[0m\u001b[0mtrain_positive_dir\u001b[0m\u001b[0;34m,\u001b[0m \u001b[0mpositive_name\u001b[0m\u001b[0;34m)\u001b[0m\u001b[0;34m\u001b[0m\u001b[0;34m\u001b[0m\u001b[0m\n\u001b[0;32m---> 24\u001b[0;31m     \u001b[0mshutil\u001b[0m\u001b[0;34m.\u001b[0m\u001b[0mcopyfile\u001b[0m\u001b[0;34m(\u001b[0m\u001b[0msrc\u001b[0m\u001b[0;34m,\u001b[0m \u001b[0mdst\u001b[0m\u001b[0;34m)\u001b[0m\u001b[0;34m\u001b[0m\u001b[0;34m\u001b[0m\u001b[0m\n\u001b[0m",
      "\u001b[0;32m~/opt/anaconda3/lib/python3.7/shutil.py\u001b[0m in \u001b[0;36mcopyfile\u001b[0;34m(src, dst, follow_symlinks)\u001b[0m\n\u001b[1;32m    118\u001b[0m         \u001b[0mos\u001b[0m\u001b[0;34m.\u001b[0m\u001b[0msymlink\u001b[0m\u001b[0;34m(\u001b[0m\u001b[0mos\u001b[0m\u001b[0;34m.\u001b[0m\u001b[0mreadlink\u001b[0m\u001b[0;34m(\u001b[0m\u001b[0msrc\u001b[0m\u001b[0;34m)\u001b[0m\u001b[0;34m,\u001b[0m \u001b[0mdst\u001b[0m\u001b[0;34m)\u001b[0m\u001b[0;34m\u001b[0m\u001b[0;34m\u001b[0m\u001b[0m\n\u001b[1;32m    119\u001b[0m     \u001b[0;32melse\u001b[0m\u001b[0;34m:\u001b[0m\u001b[0;34m\u001b[0m\u001b[0;34m\u001b[0m\u001b[0m\n\u001b[0;32m--> 120\u001b[0;31m         \u001b[0;32mwith\u001b[0m \u001b[0mopen\u001b[0m\u001b[0;34m(\u001b[0m\u001b[0msrc\u001b[0m\u001b[0;34m,\u001b[0m \u001b[0;34m'rb'\u001b[0m\u001b[0;34m)\u001b[0m \u001b[0;32mas\u001b[0m \u001b[0mfsrc\u001b[0m\u001b[0;34m:\u001b[0m\u001b[0;34m\u001b[0m\u001b[0;34m\u001b[0m\u001b[0m\n\u001b[0m\u001b[1;32m    121\u001b[0m             \u001b[0;32mwith\u001b[0m \u001b[0mopen\u001b[0m\u001b[0;34m(\u001b[0m\u001b[0mdst\u001b[0m\u001b[0;34m,\u001b[0m \u001b[0;34m'wb'\u001b[0m\u001b[0;34m)\u001b[0m \u001b[0;32mas\u001b[0m \u001b[0mfdst\u001b[0m\u001b[0;34m:\u001b[0m\u001b[0;34m\u001b[0m\u001b[0;34m\u001b[0m\u001b[0m\n\u001b[1;32m    122\u001b[0m                 \u001b[0mcopyfileobj\u001b[0m\u001b[0;34m(\u001b[0m\u001b[0mfsrc\u001b[0m\u001b[0;34m,\u001b[0m \u001b[0mfdst\u001b[0m\u001b[0;34m)\u001b[0m\u001b[0;34m\u001b[0m\u001b[0;34m\u001b[0m\u001b[0m\n",
      "\u001b[0;31mFileNotFoundError\u001b[0m: [Errno 2] No such file or directory: '/Users/Davidaarhus/Documents/CPSC_393/Project_images/images/positive_train/.jpg'"
     ]
    }
   ],
   "source": [
    "positive_imgs = [] # array for all the positive images\n",
    "for filename in os.listdir(original_pos_train_dataset_dir): # iterates and puts all of the image directories in a list\n",
    "    img = (os.path.join(original_pos_train_dataset_dir,filename))\n",
    "    if img is not None:\n",
    "        positive_imgs.append(img)\n",
    "        \n",
    "# grabs the image numbers from all the directories \n",
    "# will use these numbers to place images in correct folders for model (train, validation, test)\n",
    "positive_imgs_numbers = []\n",
    "numbers = ['1','2','3','4','5','6','7','8','9','0']\n",
    "for pos_img in positive_imgs: \n",
    "    pos_img = pos_img.replace('CPSC_393','')\n",
    "    num = \"\"\n",
    "    for char in pos_img:\n",
    "        if char in numbers:\n",
    "            num = num + char\n",
    "    positive_imgs_numbers.append(num)   \n",
    "\n",
    "# puts 1000 of the positive training images in the train directory\n",
    "positive_train_images = ['{}.jpg'.format(i) for i in positive_imgs_numbers[0:5000]]\n",
    "for positive_name in positive_train_images:\n",
    "    src = os.path.join(original_pos_train_dataset_dir, positive_name)\n",
    "    dst = os.path.join(train_positive_dir, positive_name)\n",
    "    shutil.copyfile(src, dst)"
   ]
  },
  {
   "cell_type": "markdown",
   "metadata": {},
   "source": [
    "## Validation"
   ]
  },
  {
   "cell_type": "code",
   "execution_count": null,
   "metadata": {},
   "outputs": [],
   "source": [
    "positive_validation_imgs = [] # array for all the positive validation images\n",
    "for filename in os.listdir(original_post_validation_dataset_dir): # iterates, puts all of the image dir in a list\n",
    "    img = (os.path.join(original_post_validation_dataset_dir,filename))\n",
    "    if img is not None:\n",
    "        positive_validation_imgs.append(img)\n",
    "        \n",
    "# grabs the image numbers from all the directories \n",
    "# will use these numbers to place images in correct folders for model (train, validation, test)\n",
    "positive_validation_imgs_numbers = []\n",
    "numbers = ['1','2','3','4','5','6','7','8','9','0']\n",
    "for pos_img in positive_validation_imgs: \n",
    "    pos_img = pos_img.replace('CPSC_393','')\n",
    "    num = \"\"\n",
    "    for char in pos_img:\n",
    "        if char in numbers:\n",
    "            num = num + char\n",
    "    positive_validation_imgs_numbers.append(num)\n",
    "\n",
    "\n",
    "# puts 500 the positive validation images in the validation directory\n",
    "positive_validation_images = ['{}.jpg'.format(i) for i in positive_validation_imgs_numbers[0:1000]]\n",
    "for positive_name in positive_validation_images:\n",
    "    src = os.path.join(original_post_validation_dataset_dir, positive_name)\n",
    "    dst = os.path.join(validation_positive_dir, positive_name)\n",
    "    shutil.copyfile(src, dst)"
   ]
  },
  {
   "cell_type": "markdown",
   "metadata": {},
   "source": [
    "## Test"
   ]
  },
  {
   "cell_type": "code",
   "execution_count": null,
   "metadata": {},
   "outputs": [],
   "source": [
    "positive_test_imgs = [] # array for all the positive test images\n",
    "for filename in os.listdir(original_pos_train_dataset_dir): # iterates, puts all of the image dir in a list\n",
    "    img = (os.path.join(original_pos_train_dataset_dir,filename))\n",
    "    if img is not None:\n",
    "        positive_test_imgs.append(img)\n",
    "        \n",
    "# grabs the image numbers from all the directories \n",
    "# will use these numbers to place images in correct folders for model (train, validation, test)\n",
    "positive_test_imgs_numbers = []\n",
    "numbers = ['1','2','3','4','5','6','7','8','9','0']\n",
    "for pos_img in positive_test_imgs: \n",
    "    pos_img = pos_img.replace('CPSC_393','')\n",
    "    num = \"\"\n",
    "    for char in pos_img:\n",
    "        if char in numbers:\n",
    "            num = num + char\n",
    "    positive_test_imgs_numbers.append(num)\n",
    "\n",
    "\n",
    "# puts 500 the positive test images in the test directory\n",
    "positive_test_images = ['{}.jpg'.format(i) for i in positive_test_imgs_numbers[5000:6000]] # used 0-999 for train\n",
    "for positive_name in positive_test_images:\n",
    "    src = os.path.join(original_pos_train_dataset_dir, positive_name)\n",
    "    dst = os.path.join(test_positive_test_dir, positive_name)\n",
    "    shutil.copyfile(src, dst)"
   ]
  },
  {
   "cell_type": "markdown",
   "metadata": {},
   "source": [
    "# Populating Negative image directories (train, test, validation)"
   ]
  },
  {
   "cell_type": "markdown",
   "metadata": {},
   "source": [
    "## Train"
   ]
  },
  {
   "cell_type": "code",
   "execution_count": null,
   "metadata": {},
   "outputs": [],
   "source": [
    "negative_imgs = [] # array for all the negative images\n",
    "for filename in os.listdir(original_neg_train_dataset_dir): # iterates and puts all of the image directories in a list\n",
    "    img = (os.path.join(original_neg_train_dataset_dir,filename))\n",
    "    if img is not None:\n",
    "        negative_imgs.append(img)\n",
    "        \n",
    "# grabs the image numbers from all the directories \n",
    "# will use these numbers to place images in correct folders for model (train, validation, test)\n",
    "negative_imgs_numbers = []\n",
    "numbers = ['1','2','3','4','5','6','7','8','9','0']\n",
    "for neg_img in negative_imgs: \n",
    "    neg_img = neg_img.replace('CPSC_393','')\n",
    "    num = \"\"\n",
    "    for char in neg_img:\n",
    "        if char in numbers:\n",
    "            num = num + char\n",
    "    negative_imgs_numbers.append(num)   \n",
    "\n",
    "# puts 1000 of the negative training images in the train directory\n",
    "negative_train_images = ['{}.jpg'.format(i) for i in negative_imgs_numbers[0:5000]]\n",
    "for negative_name in negative_train_images:\n",
    "    src = os.path.join(original_neg_train_dataset_dir, negative_name)\n",
    "    dst = os.path.join(train_negative_dir, negative_name)\n",
    "    shutil.copyfile(src, dst)"
   ]
  },
  {
   "cell_type": "markdown",
   "metadata": {},
   "source": [
    "## Validation"
   ]
  },
  {
   "cell_type": "code",
   "execution_count": null,
   "metadata": {},
   "outputs": [],
   "source": [
    "negative_validation_imgs = [] # array for all the negative images\n",
    "for filename in os.listdir(original_neg_validation_dataset_dir): # iterates and puts all of the image directories in a list\n",
    "    img = (os.path.join(original_neg_validation_dataset_dir,filename))\n",
    "    if img is not None:\n",
    "        negative_validation_imgs.append(img)\n",
    "        \n",
    "# grabs the image numbers from all the directories \n",
    "# will use these numbers to place images in correct folders for model (train, validation, test)\n",
    "negative_validation_imgs_numbers = []\n",
    "numbers = ['1','2','3','4','5','6','7','8','9','0']\n",
    "for neg_img in negative_validation_imgs: \n",
    "    neg_img = neg_img.replace('CPSC_393','')\n",
    "    num = \"\"\n",
    "    for char in neg_img:\n",
    "        if char in numbers:\n",
    "            num = num + char\n",
    "    negative_validation_imgs_numbers.append(num)   \n",
    "\n",
    "# puts 500 of the negative validation images in the validation directory\n",
    "negative_validation_images = ['{}.jpg'.format(i) for i in negative_validation_imgs_numbers[0:1000]]\n",
    "for negative_name in negative_validation_images:\n",
    "    src = os.path.join(original_neg_validation_dataset_dir, negative_name)\n",
    "    dst = os.path.join(validation_negative_dir, negative_name)\n",
    "    shutil.copyfile(src, dst)"
   ]
  },
  {
   "cell_type": "markdown",
   "metadata": {},
   "source": [
    "## Test"
   ]
  },
  {
   "cell_type": "code",
   "execution_count": 179,
   "metadata": {},
   "outputs": [],
   "source": [
    "negative_test_imgs = [] # array for all the negative images\n",
    "for filename in os.listdir(original_neg_train_dataset_dir): # iterates and puts all of the image directories in a list\n",
    "    img = (os.path.join(original_neg_train_dataset_dir,filename))\n",
    "    if img is not None:\n",
    "        negative_test_imgs.append(img)\n",
    "        \n",
    "# grabs the image numbers from all the directories \n",
    "# will use these numbers to place images in correct folders for model (train, validation, test)\n",
    "negative_test_imgs_numbers = []\n",
    "numbers = ['1','2','3','4','5','6','7','8','9','0']\n",
    "for neg_img in negative_test_imgs: \n",
    "    neg_img = neg_img.replace('CPSC_393','')\n",
    "    num = \"\"\n",
    "    for char in neg_img:\n",
    "        if char in numbers:\n",
    "            num = num + char\n",
    "    negative_test_imgs_numbers.append(num)   \n",
    "\n",
    "# puts 500 of the negative test images in the test directory\n",
    "negative_test_images = ['{}.jpg'.format(i) for i in negative_test_imgs_numbers[5000:6000]]\n",
    "for negative_name in negative_test_images:\n",
    "    src = os.path.join(original_neg_train_dataset_dir, negative_name)\n",
    "    dst = os.path.join(test_negative_test_dir, negative_name)\n",
    "    shutil.copyfile(src, dst)"
   ]
  },
  {
   "cell_type": "code",
   "execution_count": 180,
   "metadata": {},
   "outputs": [
    {
     "name": "stdout",
     "output_type": "stream",
     "text": [
      "total training positive images: 1072\n",
      "total training negative images: 0\n",
      "total validation positive images: 0\n",
      "total validation negative images: 0\n",
      "total test positive images: 0\n",
      "total test negative images: 1000\n"
     ]
    }
   ],
   "source": [
    "print('total training positive images:', len(os.listdir(train_positive_dir)))\n",
    "print('total training negative images:', len(os.listdir(train_negative_dir)))\n",
    "print('total validation positive images:', len(os.listdir(validation_positive_dir)))\n",
    "print('total validation negative images:', len(os.listdir(validation_negative_dir)))\n",
    "print('total test positive images:', len(os.listdir(test_positive_test_dir)))\n",
    "print('total test negative images:', len(os.listdir(test_negative_test_dir)))"
   ]
  },
  {
   "cell_type": "code",
   "execution_count": 151,
   "metadata": {},
   "outputs": [],
   "source": [
    "from keras import layers\n",
    "from keras import models"
   ]
  },
  {
   "cell_type": "code",
   "execution_count": 152,
   "metadata": {},
   "outputs": [],
   "source": [
    "model = models.Sequential()\n",
    "model.add(layers.Conv2D(32, (3, 3), activation='relu', \n",
    "input_shape=(48, 48, 3))) \n",
    "model.add(layers.MaxPooling2D((2, 2)))\n",
    "model.add(layers.Conv2D(64, (3, 3), activation='relu'))\n",
    "model.add(layers.MaxPooling2D((2, 2)))\n",
    "model.add(layers.Conv2D(128, (3, 3), activation='relu'))\n",
    "model.add(layers.MaxPooling2D((2, 2)))\n",
    "model.add(layers.Conv2D(128, (3, 3), activation='relu'))\n",
    "model.add(layers.MaxPooling2D((2, 2)))\n",
    "model.add(layers.Flatten())\n",
    "model.add(layers.Dense(512, activation='relu'))\n",
    "model.add(layers.Dense(1, activation='sigmoid'))"
   ]
  },
  {
   "cell_type": "code",
   "execution_count": 153,
   "metadata": {},
   "outputs": [
    {
     "name": "stdout",
     "output_type": "stream",
     "text": [
      "Model: \"sequential_5\"\n",
      "_________________________________________________________________\n",
      "Layer (type)                 Output Shape              Param #   \n",
      "=================================================================\n",
      "conv2d_17 (Conv2D)           (None, 46, 46, 32)        896       \n",
      "_________________________________________________________________\n",
      "max_pooling2d_17 (MaxPooling (None, 23, 23, 32)        0         \n",
      "_________________________________________________________________\n",
      "conv2d_18 (Conv2D)           (None, 21, 21, 64)        18496     \n",
      "_________________________________________________________________\n",
      "max_pooling2d_18 (MaxPooling (None, 10, 10, 64)        0         \n",
      "_________________________________________________________________\n",
      "conv2d_19 (Conv2D)           (None, 8, 8, 128)         73856     \n",
      "_________________________________________________________________\n",
      "max_pooling2d_19 (MaxPooling (None, 4, 4, 128)         0         \n",
      "_________________________________________________________________\n",
      "conv2d_20 (Conv2D)           (None, 2, 2, 128)         147584    \n",
      "_________________________________________________________________\n",
      "max_pooling2d_20 (MaxPooling (None, 1, 1, 128)         0         \n",
      "_________________________________________________________________\n",
      "flatten_5 (Flatten)          (None, 128)               0         \n",
      "_________________________________________________________________\n",
      "dense_9 (Dense)              (None, 512)               66048     \n",
      "_________________________________________________________________\n",
      "dense_10 (Dense)             (None, 1)                 513       \n",
      "=================================================================\n",
      "Total params: 307,393\n",
      "Trainable params: 307,393\n",
      "Non-trainable params: 0\n",
      "_________________________________________________________________\n"
     ]
    }
   ],
   "source": [
    "model.summary()"
   ]
  },
  {
   "cell_type": "code",
   "execution_count": 154,
   "metadata": {},
   "outputs": [],
   "source": [
    "from keras import optimizers"
   ]
  },
  {
   "cell_type": "code",
   "execution_count": 155,
   "metadata": {},
   "outputs": [],
   "source": [
    "metrics = [keras.metrics.BinaryAccuracy(name='acc'),\n",
    "           keras.metrics.Precision(name='precision'),\n",
    "           keras.metrics.Recall(name='recall')]"
   ]
  },
  {
   "cell_type": "code",
   "execution_count": 156,
   "metadata": {},
   "outputs": [],
   "source": [
    "model.compile(loss='binary_crossentropy',\n",
    "    optimizer=optimizers.RMSprop(lr=1e-4),\n",
    "    metrics=metrics)"
   ]
  },
  {
   "cell_type": "code",
   "execution_count": 157,
   "metadata": {},
   "outputs": [],
   "source": [
    "from keras.preprocessing.image import ImageDataGenerator"
   ]
  },
  {
   "cell_type": "code",
   "execution_count": 158,
   "metadata": {},
   "outputs": [
    {
     "ename": "NameError",
     "evalue": "name 'train_dir' is not defined",
     "output_type": "error",
     "traceback": [
      "\u001b[0;31m---------------------------------------------------------------------------\u001b[0m",
      "\u001b[0;31mNameError\u001b[0m                                 Traceback (most recent call last)",
      "\u001b[0;32m<ipython-input-158-663e71c0bfff>\u001b[0m in \u001b[0;36m<module>\u001b[0;34m\u001b[0m\n\u001b[1;32m      2\u001b[0m \u001b[0mtest_datagen\u001b[0m \u001b[0;34m=\u001b[0m \u001b[0mImageDataGenerator\u001b[0m\u001b[0;34m(\u001b[0m\u001b[0mrescale\u001b[0m\u001b[0;34m=\u001b[0m\u001b[0;36m1.\u001b[0m\u001b[0;34m/\u001b[0m\u001b[0;36m255\u001b[0m\u001b[0;34m)\u001b[0m\u001b[0;34m\u001b[0m\u001b[0;34m\u001b[0m\u001b[0m\n\u001b[1;32m      3\u001b[0m train_generator = train_datagen.flow_from_directory(\n\u001b[0;32m----> 4\u001b[0;31m     \u001b[0mtrain_dir\u001b[0m\u001b[0;34m,\u001b[0m\u001b[0;34m\u001b[0m\u001b[0;34m\u001b[0m\u001b[0m\n\u001b[0m\u001b[1;32m      5\u001b[0m     \u001b[0mtarget_size\u001b[0m\u001b[0;34m=\u001b[0m\u001b[0;34m(\u001b[0m\u001b[0;36m48\u001b[0m\u001b[0;34m,\u001b[0m \u001b[0;36m48\u001b[0m\u001b[0;34m)\u001b[0m\u001b[0;34m,\u001b[0m\u001b[0;34m\u001b[0m\u001b[0;34m\u001b[0m\u001b[0m\n\u001b[1;32m      6\u001b[0m     \u001b[0mbatch_size\u001b[0m\u001b[0;34m=\u001b[0m\u001b[0;36m20\u001b[0m\u001b[0;34m,\u001b[0m\u001b[0;34m\u001b[0m\u001b[0;34m\u001b[0m\u001b[0m\n",
      "\u001b[0;31mNameError\u001b[0m: name 'train_dir' is not defined"
     ]
    }
   ],
   "source": [
    "train_datagen = ImageDataGenerator(rescale=1./255)\n",
    "test_datagen = ImageDataGenerator(rescale=1./255)\n",
    "train_generator = train_datagen.flow_from_directory(\n",
    "    train_dir,\n",
    "    target_size=(48, 48),\n",
    "    batch_size=20,\n",
    "    class_mode='binary')"
   ]
  },
  {
   "cell_type": "code",
   "execution_count": 55,
   "metadata": {},
   "outputs": [
    {
     "name": "stdout",
     "output_type": "stream",
     "text": [
      "Found 2000 images belonging to 2 classes.\n"
     ]
    }
   ],
   "source": [
    "validation_generator = test_datagen.flow_from_directory(\n",
    "    validation_dir,\n",
    "    target_size=(48, 48),\n",
    "    batch_size=20,\n",
    "    class_mode='binary')"
   ]
  },
  {
   "cell_type": "code",
   "execution_count": 56,
   "metadata": {},
   "outputs": [
    {
     "name": "stdout",
     "output_type": "stream",
     "text": [
      "Epoch 1/100\n",
      "100/100 [==============================] - 13s 127ms/step - loss: 0.6932 - acc: 0.5070 - precision: 0.5193 - recall: 0.4858 - val_loss: 0.7078 - val_acc: 0.4950 - val_precision: 0.4950 - val_recall: 1.0000\n",
      "Epoch 2/100\n",
      "100/100 [==============================] - 12s 118ms/step - loss: 0.6922 - acc: 0.5105 - precision: 0.5024 - recall: 0.4232 - val_loss: 0.6687 - val_acc: 0.4950 - val_precision: 0.0000e+00 - val_recall: 0.0000e+00\n",
      "Epoch 3/100\n",
      "100/100 [==============================] - 11s 111ms/step - loss: 0.6877 - acc: 0.5440 - precision: 0.5473 - recall: 0.4880 - val_loss: 0.6849 - val_acc: 0.5900 - val_precision: 0.6682 - val_recall: 0.3072\n",
      "Epoch 4/100\n",
      "100/100 [==============================] - 11s 111ms/step - loss: 0.6830 - acc: 0.5695 - precision: 0.5835 - recall: 0.4764 - val_loss: 0.6712 - val_acc: 0.6040 - val_precision: 0.5854 - val_recall: 0.7922\n",
      "Epoch 5/100\n",
      "100/100 [==============================] - 13s 132ms/step - loss: 0.6714 - acc: 0.5905 - precision: 0.5932 - recall: 0.5784 - val_loss: 0.6632 - val_acc: 0.6270 - val_precision: 0.6172 - val_recall: 0.7148\n",
      "Epoch 6/100\n",
      "100/100 [==============================] - 10s 103ms/step - loss: 0.6604 - acc: 0.6010 - precision: 0.6033 - recall: 0.6223 - val_loss: 0.6583 - val_acc: 0.6210 - val_precision: 0.5756 - val_recall: 0.8504\n",
      "Epoch 7/100\n",
      "100/100 [==============================] - 10s 100ms/step - loss: 0.6525 - acc: 0.6245 - precision: 0.6203 - recall: 0.6083 - val_loss: 0.6036 - val_acc: 0.6570 - val_precision: 0.6621 - val_recall: 0.6008\n",
      "Epoch 8/100\n",
      "100/100 [==============================] - 10s 103ms/step - loss: 0.6386 - acc: 0.6310 - precision: 0.6251 - recall: 0.6527 - val_loss: 0.5664 - val_acc: 0.5990 - val_precision: 0.8343 - val_recall: 0.2743\n",
      "Epoch 9/100\n",
      "100/100 [==============================] - 10s 104ms/step - loss: 0.6050 - acc: 0.6735 - precision: 0.6776 - recall: 0.7006 - val_loss: 0.6725 - val_acc: 0.6720 - val_precision: 0.8185 - val_recall: 0.4536\n",
      "Epoch 10/100\n",
      "100/100 [==============================] - 10s 101ms/step - loss: 0.6018 - acc: 0.6805 - precision: 0.6754 - recall: 0.6595 - val_loss: 0.6003 - val_acc: 0.7080 - val_precision: 0.6837 - val_recall: 0.7586\n",
      "Epoch 11/100\n",
      "100/100 [==============================] - 10s 105ms/step - loss: 0.5733 - acc: 0.7040 - precision: 0.6971 - recall: 0.7409 - val_loss: 0.6457 - val_acc: 0.7400 - val_precision: 0.7542 - val_recall: 0.7151\n",
      "Epoch 12/100\n",
      "100/100 [==============================] - 11s 107ms/step - loss: 0.5638 - acc: 0.7205 - precision: 0.7114 - recall: 0.7238 - val_loss: 0.5295 - val_acc: 0.7350 - val_precision: 0.7964 - val_recall: 0.6285\n",
      "Epoch 13/100\n",
      "100/100 [==============================] - 10s 102ms/step - loss: 0.5649 - acc: 0.7070 - precision: 0.6997 - recall: 0.7344 - val_loss: 0.4731 - val_acc: 0.7050 - val_precision: 0.8545 - val_recall: 0.5267\n",
      "Epoch 14/100\n",
      "100/100 [==============================] - 11s 110ms/step - loss: 0.5413 - acc: 0.7275 - precision: 0.7202 - recall: 0.7468 - val_loss: 0.4399 - val_acc: 0.7570 - val_precision: 0.7040 - val_recall: 0.8445\n",
      "Epoch 15/100\n",
      "100/100 [==============================] - 11s 105ms/step - loss: 0.5230 - acc: 0.7550 - precision: 0.7432 - recall: 0.7702 - val_loss: 0.4378 - val_acc: 0.7940 - val_precision: 0.7678 - val_recall: 0.8678\n",
      "Epoch 16/100\n",
      "100/100 [==============================] - 10s 105ms/step - loss: 0.5016 - acc: 0.7665 - precision: 0.7570 - recall: 0.7864 - val_loss: 0.5501 - val_acc: 0.7520 - val_precision: 0.7291 - val_recall: 0.7657\n",
      "Epoch 17/100\n",
      "100/100 [==============================] - 10s 100ms/step - loss: 0.5108 - acc: 0.7570 - precision: 0.7535 - recall: 0.7884 - val_loss: 0.7305 - val_acc: 0.7080 - val_precision: 0.6425 - val_recall: 0.9274\n",
      "Epoch 18/100\n",
      "100/100 [==============================] - 10s 100ms/step - loss: 0.4734 - acc: 0.7710 - precision: 0.7598 - recall: 0.7844 - val_loss: 0.4675 - val_acc: 0.7850 - val_precision: 0.8337 - val_recall: 0.7163\n",
      "Epoch 19/100\n",
      "100/100 [==============================] - 10s 104ms/step - loss: 0.4986 - acc: 0.7610 - precision: 0.7593 - recall: 0.7786 - val_loss: 0.5823 - val_acc: 0.7840 - val_precision: 0.8232 - val_recall: 0.7039\n",
      "Epoch 20/100\n",
      "100/100 [==============================] - 11s 105ms/step - loss: 0.4989 - acc: 0.7645 - precision: 0.7561 - recall: 0.7474 - val_loss: 0.5643 - val_acc: 0.8000 - val_precision: 0.8054 - val_recall: 0.8085\n",
      "Epoch 21/100\n",
      "100/100 [==============================] - 11s 107ms/step - loss: 0.4538 - acc: 0.7900 - precision: 0.7844 - recall: 0.7939 - val_loss: 0.4109 - val_acc: 0.7870 - val_precision: 0.8208 - val_recall: 0.7376\n",
      "Epoch 22/100\n",
      "100/100 [==============================] - 10s 100ms/step - loss: 0.4645 - acc: 0.7835 - precision: 0.7855 - recall: 0.7894 - val_loss: 0.3461 - val_acc: 0.8150 - val_precision: 0.8171 - val_recall: 0.8089\n",
      "Epoch 23/100\n",
      "100/100 [==============================] - 10s 105ms/step - loss: 0.4487 - acc: 0.8000 - precision: 0.7893 - recall: 0.8023 - val_loss: 0.4271 - val_acc: 0.8040 - val_precision: 0.7829 - val_recall: 0.8423\n",
      "Epoch 24/100\n",
      "100/100 [==============================] - 10s 104ms/step - loss: 0.4562 - acc: 0.7915 - precision: 0.7892 - recall: 0.8115 - val_loss: 0.5854 - val_acc: 0.7940 - val_precision: 0.7611 - val_recall: 0.8557\n",
      "Epoch 25/100\n",
      "100/100 [==============================] - 10s 102ms/step - loss: 0.4487 - acc: 0.7925 - precision: 0.7904 - recall: 0.7928 - val_loss: 0.7732 - val_acc: 0.7950 - val_precision: 0.8880 - val_recall: 0.6779\n",
      "Epoch 26/100\n",
      "100/100 [==============================] - 10s 105ms/step - loss: 0.4242 - acc: 0.8115 - precision: 0.8080 - recall: 0.8055 - val_loss: 0.4037 - val_acc: 0.8030 - val_precision: 0.8440 - val_recall: 0.7404\n",
      "Epoch 27/100\n",
      "100/100 [==============================] - 12s 123ms/step - loss: 0.4153 - acc: 0.8110 - precision: 0.8114 - recall: 0.8114 - val_loss: 0.3931 - val_acc: 0.7650 - val_precision: 0.6983 - val_recall: 0.9163\n",
      "Epoch 28/100\n",
      "100/100 [==============================] - 10s 101ms/step - loss: 0.4241 - acc: 0.8015 - precision: 0.8010 - recall: 0.8034 - val_loss: 0.4933 - val_acc: 0.8060 - val_precision: 0.7842 - val_recall: 0.8549\n",
      "Epoch 29/100\n",
      "100/100 [==============================] - 10s 104ms/step - loss: 0.3972 - acc: 0.8245 - precision: 0.8241 - recall: 0.8330 - val_loss: 0.4159 - val_acc: 0.7970 - val_precision: 0.7607 - val_recall: 0.8760\n",
      "Epoch 30/100\n",
      "100/100 [==============================] - 11s 109ms/step - loss: 0.4205 - acc: 0.8110 - precision: 0.8118 - recall: 0.8102 - val_loss: 0.4076 - val_acc: 0.8350 - val_precision: 0.8674 - val_recall: 0.7846\n",
      "Epoch 31/100\n",
      "100/100 [==============================] - 10s 105ms/step - loss: 0.3837 - acc: 0.8285 - precision: 0.8355 - recall: 0.8248 - val_loss: 0.5146 - val_acc: 0.8310 - val_precision: 0.8196 - val_recall: 0.8444\n",
      "Epoch 32/100\n",
      "100/100 [==============================] - 11s 107ms/step - loss: 0.3879 - acc: 0.8300 - precision: 0.8208 - recall: 0.8359 - val_loss: 0.2972 - val_acc: 0.8070 - val_precision: 0.8980 - val_recall: 0.6970\n",
      "Epoch 33/100\n",
      "100/100 [==============================] - 10s 103ms/step - loss: 0.3980 - acc: 0.8275 - precision: 0.8387 - recall: 0.8198 - val_loss: 0.4885 - val_acc: 0.8220 - val_precision: 0.8427 - val_recall: 0.7883\n",
      "Epoch 34/100\n",
      "100/100 [==============================] - 11s 108ms/step - loss: 0.3863 - acc: 0.8285 - precision: 0.8302 - recall: 0.8158 - val_loss: 0.3523 - val_acc: 0.8150 - val_precision: 0.7853 - val_recall: 0.8710\n",
      "Epoch 35/100\n",
      "100/100 [==============================] - 11s 110ms/step - loss: 0.3671 - acc: 0.8425 - precision: 0.8402 - recall: 0.8478 - val_loss: 0.4356 - val_acc: 0.8240 - val_precision: 0.9244 - val_recall: 0.6889\n",
      "Epoch 36/100\n",
      "100/100 [==============================] - 11s 107ms/step - loss: 0.3708 - acc: 0.8355 - precision: 0.8449 - recall: 0.8274 - val_loss: 0.3466 - val_acc: 0.8210 - val_precision: 0.8032 - val_recall: 0.8695\n",
      "Epoch 37/100\n",
      "100/100 [==============================] - 10s 103ms/step - loss: 0.3584 - acc: 0.8400 - precision: 0.8430 - recall: 0.8463 - val_loss: 0.4577 - val_acc: 0.8320 - val_precision: 0.8359 - val_recall: 0.8391\n",
      "Epoch 38/100\n",
      "100/100 [==============================] - 11s 107ms/step - loss: 0.3579 - acc: 0.8460 - precision: 0.8480 - recall: 0.8287 - val_loss: 0.4499 - val_acc: 0.8410 - val_precision: 0.8635 - val_recall: 0.7975\n",
      "Epoch 39/100\n",
      "100/100 [==============================] - 10s 103ms/step - loss: 0.3537 - acc: 0.8440 - precision: 0.8476 - recall: 0.8373 - val_loss: 0.4263 - val_acc: 0.8340 - val_precision: 0.8249 - val_recall: 0.8688\n",
      "Epoch 40/100\n",
      "100/100 [==============================] - 10s 102ms/step - loss: 0.3431 - acc: 0.8535 - precision: 0.8573 - recall: 0.8478 - val_loss: 0.3863 - val_acc: 0.8340 - val_precision: 0.8117 - val_recall: 0.8460\n",
      "Epoch 41/100\n",
      "100/100 [==============================] - 10s 103ms/step - loss: 0.3432 - acc: 0.8520 - precision: 0.8545 - recall: 0.8528 - val_loss: 0.3423 - val_acc: 0.8390 - val_precision: 0.8780 - val_recall: 0.7933\n",
      "Epoch 42/100\n",
      "100/100 [==============================] - 10s 103ms/step - loss: 0.3245 - acc: 0.8615 - precision: 0.8607 - recall: 0.8509 - val_loss: 0.5068 - val_acc: 0.7960 - val_precision: 0.7315 - val_recall: 0.9248\n",
      "Epoch 43/100\n",
      "100/100 [==============================] - 10s 102ms/step - loss: 0.3225 - acc: 0.8580 - precision: 0.8566 - recall: 0.8583 - val_loss: 0.7080 - val_acc: 0.8380 - val_precision: 0.8568 - val_recall: 0.8124\n",
      "Epoch 44/100\n",
      "100/100 [==============================] - 11s 113ms/step - loss: 0.3356 - acc: 0.8520 - precision: 0.8616 - recall: 0.8584 - val_loss: 0.2610 - val_acc: 0.8420 - val_precision: 0.8061 - val_recall: 0.8998\n",
      "Epoch 45/100\n",
      "100/100 [==============================] - 12s 118ms/step - loss: 0.3431 - acc: 0.8595 - precision: 0.8574 - recall: 0.8512 - val_loss: 0.3064 - val_acc: 0.8470 - val_precision: 0.8728 - val_recall: 0.8116\n",
      "Epoch 46/100\n",
      "100/100 [==============================] - 12s 115ms/step - loss: 0.2949 - acc: 0.8740 - precision: 0.8793 - recall: 0.8688 - val_loss: 0.2805 - val_acc: 0.8300 - val_precision: 0.8152 - val_recall: 0.8543\n",
      "Epoch 47/100\n",
      "100/100 [==============================] - 11s 113ms/step - loss: 0.3053 - acc: 0.8760 - precision: 0.8843 - recall: 0.8629 - val_loss: 0.3172 - val_acc: 0.8370 - val_precision: 0.8490 - val_recall: 0.8238\n",
      "Epoch 48/100\n",
      "100/100 [==============================] - 11s 111ms/step - loss: 0.3200 - acc: 0.8650 - precision: 0.8645 - recall: 0.8592 - val_loss: 0.0941 - val_acc: 0.8500 - val_precision: 0.8616 - val_recall: 0.8303\n",
      "Epoch 49/100\n",
      "100/100 [==============================] - 11s 108ms/step - loss: 0.3115 - acc: 0.8680 - precision: 0.8687 - recall: 0.8652 - val_loss: 0.5048 - val_acc: 0.8600 - val_precision: 0.8817 - val_recall: 0.8195\n",
      "Epoch 50/100\n",
      "100/100 [==============================] - 11s 112ms/step - loss: 0.3126 - acc: 0.8710 - precision: 0.8775 - recall: 0.8706 - val_loss: 0.5103 - val_acc: 0.8190 - val_precision: 0.9100 - val_recall: 0.7220\n",
      "Epoch 51/100\n",
      "100/100 [==============================] - 12s 120ms/step - loss: 0.2854 - acc: 0.8840 - precision: 0.8933 - recall: 0.8738 - val_loss: 0.3162 - val_acc: 0.8400 - val_precision: 0.8747 - val_recall: 0.8073\n",
      "Epoch 52/100\n",
      "100/100 [==============================] - 12s 120ms/step - loss: 0.3075 - acc: 0.8720 - precision: 0.8730 - recall: 0.8604 - val_loss: 0.3336 - val_acc: 0.8400 - val_precision: 0.7956 - val_recall: 0.8981\n",
      "Epoch 53/100\n",
      "100/100 [==============================] - 11s 111ms/step - loss: 0.2894 - acc: 0.8795 - precision: 0.8836 - recall: 0.8810 - val_loss: 0.3315 - val_acc: 0.8460 - val_precision: 0.9029 - val_recall: 0.7654\n",
      "Epoch 54/100\n",
      "100/100 [==============================] - 11s 109ms/step - loss: 0.2683 - acc: 0.8915 - precision: 0.8976 - recall: 0.8763 - val_loss: 0.1901 - val_acc: 0.8410 - val_precision: 0.8221 - val_recall: 0.8813\n",
      "Epoch 55/100\n",
      "100/100 [==============================] - 11s 111ms/step - loss: 0.2819 - acc: 0.8800 - precision: 0.8845 - recall: 0.8828 - val_loss: 0.1859 - val_acc: 0.8450 - val_precision: 0.9041 - val_recall: 0.7780\n",
      "Epoch 56/100\n",
      "100/100 [==============================] - 11s 110ms/step - loss: 0.2720 - acc: 0.8890 - precision: 0.8897 - recall: 0.8879 - val_loss: 0.2762 - val_acc: 0.8230 - val_precision: 0.9110 - val_recall: 0.7088\n",
      "Epoch 57/100\n",
      "100/100 [==============================] - 10s 104ms/step - loss: 0.2636 - acc: 0.8945 - precision: 0.8977 - recall: 0.8858 - val_loss: 0.3767 - val_acc: 0.8200 - val_precision: 0.7677 - val_recall: 0.9228\n",
      "Epoch 58/100\n",
      "100/100 [==============================] - 11s 108ms/step - loss: 0.2376 - acc: 0.9040 - precision: 0.9051 - recall: 0.9033 - val_loss: 0.3119 - val_acc: 0.8320 - val_precision: 0.8707 - val_recall: 0.7758\n",
      "Epoch 59/100\n",
      "100/100 [==============================] - 10s 104ms/step - loss: 0.2759 - acc: 0.8905 - precision: 0.8937 - recall: 0.8893 - val_loss: 0.2915 - val_acc: 0.8500 - val_precision: 0.9103 - val_recall: 0.7868\n",
      "Epoch 60/100\n",
      "100/100 [==============================] - 11s 107ms/step - loss: 0.2729 - acc: 0.8925 - precision: 0.9006 - recall: 0.8836 - val_loss: 0.2668 - val_acc: 0.8550 - val_precision: 0.8383 - val_recall: 0.8678\n",
      "Epoch 61/100\n",
      "100/100 [==============================] - 11s 105ms/step - loss: 0.2316 - acc: 0.9100 - precision: 0.9129 - recall: 0.9055 - val_loss: 0.7326 - val_acc: 0.8410 - val_precision: 0.9452 - val_recall: 0.7240\n",
      "Epoch 62/100\n",
      "100/100 [==============================] - 10s 101ms/step - loss: 0.2443 - acc: 0.9020 - precision: 0.9061 - recall: 0.8952 - val_loss: 0.5612 - val_acc: 0.8510 - val_precision: 0.8840 - val_recall: 0.8080\n",
      "Epoch 63/100\n",
      "100/100 [==============================] - 10s 100ms/step - loss: 0.2424 - acc: 0.8980 - precision: 0.9001 - recall: 0.9036 - val_loss: 0.4996 - val_acc: 0.8570 - val_precision: 0.8352 - val_recall: 0.8844\n",
      "Epoch 64/100\n",
      "100/100 [==============================] - 11s 106ms/step - loss: 0.2466 - acc: 0.9000 - precision: 0.9047 - recall: 0.8938 - val_loss: 0.2746 - val_acc: 0.8270 - val_precision: 0.7899 - val_recall: 0.8974\n",
      "Epoch 65/100\n",
      "100/100 [==============================] - 10s 97ms/step - loss: 0.2627 - acc: 0.8880 - precision: 0.8935 - recall: 0.8753 - val_loss: 0.2311 - val_acc: 0.8420 - val_precision: 0.8858 - val_recall: 0.7771\n",
      "Epoch 66/100\n",
      "100/100 [==============================] - 10s 103ms/step - loss: 0.2128 - acc: 0.9165 - precision: 0.9222 - recall: 0.9083 - val_loss: 0.2587 - val_acc: 0.8420 - val_precision: 0.9192 - val_recall: 0.7573\n",
      "Epoch 67/100\n",
      "100/100 [==============================] - 11s 108ms/step - loss: 0.2250 - acc: 0.9110 - precision: 0.9194 - recall: 0.8903 - val_loss: 0.4537 - val_acc: 0.8030 - val_precision: 0.7415 - val_recall: 0.9231\n",
      "Epoch 68/100\n",
      "100/100 [==============================] - 12s 115ms/step - loss: 0.2372 - acc: 0.9020 - precision: 0.9078 - recall: 0.8989 - val_loss: 0.3039 - val_acc: 0.8440 - val_precision: 0.8277 - val_recall: 0.8735\n",
      "Epoch 69/100\n",
      "100/100 [==============================] - 11s 113ms/step - loss: 0.2241 - acc: 0.9090 - precision: 0.9188 - recall: 0.9065 - val_loss: 0.4322 - val_acc: 0.8420 - val_precision: 0.8028 - val_recall: 0.9134\n",
      "Epoch 70/100\n",
      "100/100 [==============================] - 12s 123ms/step - loss: 0.2135 - acc: 0.9180 - precision: 0.9183 - recall: 0.9164 - val_loss: 0.6159 - val_acc: 0.8520 - val_precision: 0.8789 - val_recall: 0.8110\n",
      "Epoch 71/100\n",
      "100/100 [==============================] - 13s 131ms/step - loss: 0.1965 - acc: 0.9250 - precision: 0.9303 - recall: 0.9192 - val_loss: 0.7771 - val_acc: 0.8450 - val_precision: 0.9431 - val_recall: 0.7427\n",
      "Epoch 72/100\n",
      "100/100 [==============================] - 11s 115ms/step - loss: 0.1909 - acc: 0.9220 - precision: 0.9200 - recall: 0.9218 - val_loss: 0.5543 - val_acc: 0.8420 - val_precision: 0.8052 - val_recall: 0.8912\n",
      "Epoch 73/100\n",
      "100/100 [==============================] - 11s 110ms/step - loss: 0.1875 - acc: 0.9305 - precision: 0.9324 - recall: 0.9315 - val_loss: 0.5109 - val_acc: 0.8580 - val_precision: 0.9122 - val_recall: 0.7916\n",
      "Epoch 74/100\n",
      "100/100 [==============================] - 10s 104ms/step - loss: 0.2177 - acc: 0.9090 - precision: 0.9183 - recall: 0.8981 - val_loss: 0.5683 - val_acc: 0.8050 - val_precision: 0.7468 - val_recall: 0.9242\n",
      "Epoch 75/100\n"
     ]
    },
    {
     "name": "stdout",
     "output_type": "stream",
     "text": [
      "100/100 [==============================] - 11s 106ms/step - loss: 0.2159 - acc: 0.9195 - precision: 0.9225 - recall: 0.9141 - val_loss: 0.1268 - val_acc: 0.8580 - val_precision: 0.8337 - val_recall: 0.8820\n",
      "Epoch 76/100\n",
      "100/100 [==============================] - 11s 110ms/step - loss: 0.1831 - acc: 0.9305 - precision: 0.9363 - recall: 0.9262 - val_loss: 0.1636 - val_acc: 0.8430 - val_precision: 0.8543 - val_recall: 0.8395\n",
      "Epoch 77/100\n",
      "100/100 [==============================] - 14s 138ms/step - loss: 0.1670 - acc: 0.9385 - precision: 0.9401 - recall: 0.9333 - val_loss: 0.1601 - val_acc: 0.8540 - val_precision: 0.8591 - val_recall: 0.8524\n",
      "Epoch 78/100\n",
      "100/100 [==============================] - 14s 138ms/step - loss: 0.1800 - acc: 0.9295 - precision: 0.9359 - recall: 0.9238 - val_loss: 0.2800 - val_acc: 0.8440 - val_precision: 0.8443 - val_recall: 0.8374\n",
      "Epoch 79/100\n",
      "100/100 [==============================] - 12s 117ms/step - loss: 0.1943 - acc: 0.9270 - precision: 0.9287 - recall: 0.9231 - val_loss: 0.5049 - val_acc: 0.8140 - val_precision: 0.7496 - val_recall: 0.9281\n",
      "Epoch 80/100\n",
      "100/100 [==============================] - 12s 117ms/step - loss: 0.1812 - acc: 0.9320 - precision: 0.9379 - recall: 0.9267 - val_loss: 0.3760 - val_acc: 0.8390 - val_precision: 0.9074 - val_recall: 0.7641\n",
      "Epoch 81/100\n",
      "100/100 [==============================] - 12s 120ms/step - loss: 0.1611 - acc: 0.9385 - precision: 0.9428 - recall: 0.9363 - val_loss: 0.0663 - val_acc: 0.8410 - val_precision: 0.9154 - val_recall: 0.7465\n",
      "Epoch 82/100\n",
      "100/100 [==============================] - 11s 111ms/step - loss: 0.1556 - acc: 0.9420 - precision: 0.9450 - recall: 0.9373 - val_loss: 0.3515 - val_acc: 0.8800 - val_precision: 0.8941 - val_recall: 0.8659\n",
      "Epoch 83/100\n",
      "100/100 [==============================] - 10s 103ms/step - loss: 0.1629 - acc: 0.9355 - precision: 0.9341 - recall: 0.9369 - val_loss: 0.7782 - val_acc: 0.8530 - val_precision: 0.8716 - val_recall: 0.8280\n",
      "Epoch 84/100\n",
      "100/100 [==============================] - 11s 112ms/step - loss: 0.1682 - acc: 0.9305 - precision: 0.9346 - recall: 0.9221 - val_loss: 0.4806 - val_acc: 0.8680 - val_precision: 0.9053 - val_recall: 0.8220\n",
      "Epoch 85/100\n",
      "100/100 [==============================] - 11s 113ms/step - loss: 0.1583 - acc: 0.9430 - precision: 0.9501 - recall: 0.9370 - val_loss: 0.7020 - val_acc: 0.8550 - val_precision: 0.8691 - val_recall: 0.8282\n",
      "Epoch 86/100\n",
      "100/100 [==============================] - 12s 123ms/step - loss: 0.1380 - acc: 0.9500 - precision: 0.9505 - recall: 0.9486 - val_loss: 0.3810 - val_acc: 0.8630 - val_precision: 0.8740 - val_recall: 0.8552\n",
      "Epoch 87/100\n",
      "100/100 [==============================] - 13s 130ms/step - loss: 0.1625 - acc: 0.9365 - precision: 0.9366 - recall: 0.9337 - val_loss: 0.1216 - val_acc: 0.8550 - val_precision: 0.8552 - val_recall: 0.8635\n",
      "Epoch 88/100\n",
      "100/100 [==============================] - 14s 144ms/step - loss: 0.1404 - acc: 0.9495 - precision: 0.9486 - recall: 0.9496 - val_loss: 0.4560 - val_acc: 0.8010 - val_precision: 0.7278 - val_recall: 0.9446\n",
      "Epoch 89/100\n",
      "100/100 [==============================] - 13s 127ms/step - loss: 0.1471 - acc: 0.9445 - precision: 0.9437 - recall: 0.9483 - val_loss: 0.2819 - val_acc: 0.8540 - val_precision: 0.8761 - val_recall: 0.8148\n",
      "Epoch 90/100\n",
      "100/100 [==============================] - 11s 106ms/step - loss: 0.1355 - acc: 0.9465 - precision: 0.9529 - recall: 0.9406 - val_loss: 0.6350 - val_acc: 0.8520 - val_precision: 0.8256 - val_recall: 0.9027\n",
      "Epoch 91/100\n",
      "100/100 [==============================] - 16s 157ms/step - loss: 0.1277 - acc: 0.9545 - precision: 0.9526 - recall: 0.9516 - val_loss: 0.6997 - val_acc: 0.8580 - val_precision: 0.8983 - val_recall: 0.8185\n",
      "Epoch 92/100\n",
      "100/100 [==============================] - 14s 135ms/step - loss: 0.1310 - acc: 0.9540 - precision: 0.9558 - recall: 0.9539 - val_loss: 0.4055 - val_acc: 0.8380 - val_precision: 0.9372 - val_recall: 0.7116\n",
      "Epoch 93/100\n",
      "100/100 [==============================] - 13s 130ms/step - loss: 0.1262 - acc: 0.9520 - precision: 0.9579 - recall: 0.9444 - val_loss: 0.0790 - val_acc: 0.8630 - val_precision: 0.8457 - val_recall: 0.8880\n",
      "Epoch 94/100\n",
      "100/100 [==============================] - 17s 171ms/step - loss: 0.1178 - acc: 0.9595 - precision: 0.9612 - recall: 0.9603 - val_loss: 0.2713 - val_acc: 0.8400 - val_precision: 0.8208 - val_recall: 0.8700\n",
      "Epoch 95/100\n",
      "100/100 [==============================] - 13s 131ms/step - loss: 0.1236 - acc: 0.9540 - precision: 0.9571 - recall: 0.9514 - val_loss: 0.3651 - val_acc: 0.8560 - val_precision: 0.8429 - val_recall: 0.8765\n",
      "Epoch 96/100\n",
      "100/100 [==============================] - 11s 109ms/step - loss: 0.1031 - acc: 0.9600 - precision: 0.9618 - recall: 0.9579 - val_loss: 0.8222 - val_acc: 0.8450 - val_precision: 0.9214 - val_recall: 0.7530\n",
      "Epoch 97/100\n",
      "100/100 [==============================] - 11s 114ms/step - loss: 0.1139 - acc: 0.9615 - precision: 0.9652 - recall: 0.9564 - val_loss: 0.4527 - val_acc: 0.8580 - val_precision: 0.9324 - val_recall: 0.7720\n",
      "Epoch 98/100\n",
      "100/100 [==============================] - 12s 118ms/step - loss: 0.0986 - acc: 0.9625 - precision: 0.9586 - recall: 0.9672 - val_loss: 0.4776 - val_acc: 0.8500 - val_precision: 0.8500 - val_recall: 0.8500\n",
      "Epoch 99/100\n",
      "100/100 [==============================] - 12s 119ms/step - loss: 0.1286 - acc: 0.9470 - precision: 0.9473 - recall: 0.9453 - val_loss: 0.2729 - val_acc: 0.8530 - val_precision: 0.8755 - val_recall: 0.8369\n",
      "Epoch 100/100\n",
      "100/100 [==============================] - 10s 102ms/step - loss: 0.1151 - acc: 0.9570 - precision: 0.9625 - recall: 0.9530 - val_loss: 0.7920 - val_acc: 0.7640 - val_precision: 0.6795 - val_recall: 0.9603\n"
     ]
    }
   ],
   "source": [
    "history = model.fit_generator(\n",
    "    train_generator,\n",
    "    steps_per_epoch=100,\n",
    "    epochs=30,\n",
    "    validation_data=validation_generator,\n",
    "    validation_steps=50)"
   ]
  },
  {
   "cell_type": "code",
   "execution_count": 225,
   "metadata": {},
   "outputs": [],
   "source": [
    "model.save('face_recognition_1.h5')"
   ]
  },
  {
   "cell_type": "code",
   "execution_count": 57,
   "metadata": {},
   "outputs": [
    {
     "data": {
      "image/png": "[encoded data removed]",
      "text/plain": [
       "<Figure size 432x288 with 1 Axes>"
      ]
     },
     "metadata": {
      "needs_background": "light"
     },
     "output_type": "display_data"
    },
    {
     "data": {
      "image/png": "[encoded data removed]",
      "text/plain": [
       "<Figure size 432x288 with 1 Axes>"
      ]
     },
     "metadata": {
      "needs_background": "light"
     },
     "output_type": "display_data"
    }
   ],
   "source": [
    "import matplotlib.pyplot as plt\n",
    "\n",
    "acc = history.history['acc']\n",
    "val_acc = history.history['val_acc']\n",
    "loss = history.history['loss']\n",
    "val_loss = history.history['val_loss']\n",
    "precision = history.history['precision']\n",
    "recall = history.history['recall']\n",
    "\n",
    "epochs = range(1, len(acc) + 1)\n",
    "\n",
    "plt.plot(epochs, acc, 'bo', label='Training acc')\n",
    "plt.plot(epochs, val_acc, 'b', label='Validation acc')\n",
    "plt.title('Training and validation accuracy')\n",
    "plt.legend()\n",
    "\n",
    "plt.figure()\n",
    "\n",
    "plt.plot(epochs, loss, 'bo', label='Training loss')\n",
    "plt.plot(epochs, val_loss, 'b', label='Validation loss')\n",
    "plt.title('Training and validation loss')\n",
    "plt.legend()\n",
    "\n",
    "plt.show()"
   ]
  },
  {
   "cell_type": "code",
   "execution_count": 227,
   "metadata": {},
   "outputs": [
    {
     "name": "stdout",
     "output_type": "stream",
     "text": [
      "Max accuracy score for the model: 0.833\n",
      "Max validation accuracy score for the model 0.824999988079071\n",
      "Max Precision score for the model: 0.83935744\n",
      "Max Recall score for the model: 0.8331726\n"
     ]
    }
   ],
   "source": [
    "print(\"Max accuracy score for the model:\", max(acc))\n",
    "print(\"Max validation accuracy score for the model\", max(val_acc))\n",
    "print(\"Max Precision score for the model:\", max(precision))\n",
    "print(\"Max Recall score for the model:\", max(recall))"
   ]
  },
  {
   "cell_type": "markdown",
   "metadata": {},
   "source": [
    "## Data Augmentation"
   ]
  },
  {
   "cell_type": "raw",
   "metadata": {},
   "source": [
    "This function below will help us alter some of our training images in order to provide a larger sample size"
   ]
  },
  {
   "cell_type": "code",
   "execution_count": 233,
   "metadata": {},
   "outputs": [],
   "source": [
    "datagen = ImageDataGenerator(\n",
    "    rotation_range=40,\n",
    "    width_shift_range=0.2,\n",
    "    height_shift_range=0.2,\n",
    "    shear_range=0.2,\n",
    "    zoom_range=0.2,\n",
    "    horizontal_flip=True,\n",
    "    fill_mode='nearest')"
   ]
  },
  {
   "cell_type": "code",
   "execution_count": 9,
   "metadata": {},
   "outputs": [],
   "source": [
    "# creating a new model with drop-out and data augmentation\n",
    "metrics = [keras.metrics.BinaryAccuracy(name='acc'),\n",
    "           keras.metrics.Precision(name='precision'),\n",
    "           keras.metrics.Recall(name='recall')]\n",
    "\n",
    "improved_model = models.Sequential()\n",
    "improved_model.add(layers.Conv2D(32, (3, 3), activation='relu',\n",
    "    input_shape=(48, 48, 3)))\n",
    "\n",
    "improved_model.add(layers.MaxPooling2D((2, 2)))\n",
    "improved_model.add(layers.Conv2D(64, (3, 3), activation='relu'))\n",
    "improved_model.add(layers.MaxPooling2D((2, 2)))\n",
    "improved_model.add(layers.Conv2D(128, (3, 3), activation='relu'))\n",
    "improved_model.add(layers.MaxPooling2D((2, 2)))\n",
    "improved_model.add(layers.Conv2D(128, (3, 3), activation='relu'))\n",
    "improved_model.add(layers.MaxPooling2D((2, 2)))\n",
    "improved_model.add(layers.Flatten())\n",
    "improved_model.add(layers.Dropout(0.5)) \n",
    "improved_model.add(layers.Dense(512, activation='relu'))\n",
    "improved_model.add(layers.Dense(1, activation='sigmoid'))\n",
    "\n",
    "improved_model.compile(loss='binary_crossentropy',\n",
    "    optimizer=optimizers.RMSprop(lr=1e-4),\n",
    "    metrics=metrics)"
   ]
  },
  {
   "cell_type": "code",
   "execution_count": 10,
   "metadata": {},
   "outputs": [
    {
     "name": "stdout",
     "output_type": "stream",
     "text": [
      "Model: \"sequential_2\"\n",
      "_________________________________________________________________\n",
      "Layer (type)                 Output Shape              Param #   \n",
      "=================================================================\n",
      "conv2d_5 (Conv2D)            (None, 46, 46, 32)        896       \n",
      "_________________________________________________________________\n",
      "max_pooling2d_5 (MaxPooling2 (None, 23, 23, 32)        0         \n",
      "_________________________________________________________________\n",
      "conv2d_6 (Conv2D)            (None, 21, 21, 64)        18496     \n",
      "_________________________________________________________________\n",
      "max_pooling2d_6 (MaxPooling2 (None, 10, 10, 64)        0         \n",
      "_________________________________________________________________\n",
      "conv2d_7 (Conv2D)            (None, 8, 8, 128)         73856     \n",
      "_________________________________________________________________\n",
      "max_pooling2d_7 (MaxPooling2 (None, 4, 4, 128)         0         \n",
      "_________________________________________________________________\n",
      "conv2d_8 (Conv2D)            (None, 2, 2, 128)         147584    \n",
      "_________________________________________________________________\n",
      "max_pooling2d_8 (MaxPooling2 (None, 1, 1, 128)         0         \n",
      "_________________________________________________________________\n",
      "flatten_2 (Flatten)          (None, 128)               0         \n",
      "_________________________________________________________________\n",
      "dropout_2 (Dropout)          (None, 128)               0         \n",
      "_________________________________________________________________\n",
      "dense_3 (Dense)              (None, 512)               66048     \n",
      "_________________________________________________________________\n",
      "dense_4 (Dense)              (None, 1)                 513       \n",
      "=================================================================\n",
      "Total params: 307,393\n",
      "Trainable params: 307,393\n",
      "Non-trainable params: 0\n",
      "_________________________________________________________________\n"
     ]
    }
   ],
   "source": [
    "improved_model.summary()"
   ]
  },
  {
   "cell_type": "code",
   "execution_count": 237,
   "metadata": {},
   "outputs": [
    {
     "name": "stdout",
     "output_type": "stream",
     "text": [
      "Found 10000 images belonging to 2 classes.\n",
      "Found 2000 images belonging to 2 classes.\n",
      "Epoch 1/100\n",
      "100/100 [==============================] - 25s 254ms/step - loss: 0.6931 - acc: 0.5110 - precision: 0.5279 - recall: 0.2544 - val_loss: 0.6906 - val_acc: 0.5056 - val_precision: 0.5056 - val_recall: 1.0000\n",
      "Epoch 2/100\n",
      "100/100 [==============================] - 28s 284ms/step - loss: 0.6929 - acc: 0.5113 - precision: 0.5042 - recall: 0.3041 - val_loss: 0.6943 - val_acc: 0.5316 - val_precision: 0.6450 - val_recall: 0.1378\n",
      "Epoch 3/100\n",
      "100/100 [==============================] - 20s 196ms/step - loss: 0.6926 - acc: 0.5163 - precision: 0.5262 - recall: 0.4292 - val_loss: 0.6908 - val_acc: 0.5676 - val_precision: 0.5454 - val_recall: 0.7522\n",
      "Epoch 4/100\n",
      "100/100 [==============================] - 19s 195ms/step - loss: 0.6919 - acc: 0.5157 - precision: 0.5223 - recall: 0.5642 - val_loss: 0.6781 - val_acc: 0.6067 - val_precision: 0.6076 - val_recall: 0.5883\n",
      "Epoch 5/100\n",
      "100/100 [==============================] - 18s 184ms/step - loss: 0.6905 - acc: 0.5278 - precision: 0.5312 - recall: 0.5276 - val_loss: 0.6875 - val_acc: 0.5356 - val_precision: 0.6310 - val_recall: 0.1965\n",
      "Epoch 6/100\n",
      "100/100 [==============================] - 20s 199ms/step - loss: 0.6896 - acc: 0.5356 - precision: 0.5347 - recall: 0.5407 - val_loss: 0.6742 - val_acc: 0.5385 - val_precision: 0.6245 - val_recall: 0.1815\n",
      "Epoch 7/100\n",
      "100/100 [==============================] - 17s 174ms/step - loss: 0.6856 - acc: 0.5472 - precision: 0.5369 - recall: 0.4651 - val_loss: 0.6609 - val_acc: 0.5934 - val_precision: 0.6072 - val_recall: 0.5832\n",
      "Epoch 8/100\n",
      "100/100 [==============================] - 15s 154ms/step - loss: 0.6855 - acc: 0.5515 - precision: 0.5524 - recall: 0.5990 - val_loss: 0.6412 - val_acc: 0.5770 - val_precision: 0.5480 - val_recall: 0.7674\n",
      "Epoch 9/100\n",
      "100/100 [==============================] - 19s 188ms/step - loss: 0.6842 - acc: 0.5659 - precision: 0.5617 - recall: 0.6583 - val_loss: 0.7262 - val_acc: 0.5707 - val_precision: 0.5979 - val_recall: 0.4286\n",
      "Epoch 10/100\n",
      "100/100 [==============================] - 16s 163ms/step - loss: 0.6783 - acc: 0.5688 - precision: 0.5647 - recall: 0.5786 - val_loss: 0.6706 - val_acc: 0.5969 - val_precision: 0.5905 - val_recall: 0.6384\n",
      "Epoch 11/100\n",
      "100/100 [==============================] - 15s 150ms/step - loss: 0.6793 - acc: 0.5609 - precision: 0.5484 - recall: 0.6210 - val_loss: 0.6388 - val_acc: 0.6042 - val_precision: 0.6266 - val_recall: 0.5032\n",
      "Epoch 12/100\n",
      "100/100 [==============================] - 15s 150ms/step - loss: 0.6833 - acc: 0.5694 - precision: 0.5606 - recall: 0.6840 - val_loss: 0.7192 - val_acc: 0.5846 - val_precision: 0.5710 - val_recall: 0.7301\n",
      "Epoch 13/100\n",
      "100/100 [==============================] - 15s 150ms/step - loss: 0.6812 - acc: 0.5597 - precision: 0.5496 - recall: 0.6431 - val_loss: 0.6693 - val_acc: 0.5821 - val_precision: 0.6826 - val_recall: 0.3068\n",
      "Epoch 14/100\n",
      "100/100 [==============================] - 15s 152ms/step - loss: 0.6831 - acc: 0.5606 - precision: 0.5564 - recall: 0.6167 - val_loss: 0.6597 - val_acc: 0.6023 - val_precision: 0.5787 - val_recall: 0.7148\n",
      "Epoch 15/100\n",
      "100/100 [==============================] - 15s 146ms/step - loss: 0.6819 - acc: 0.5681 - precision: 0.5565 - recall: 0.6474 - val_loss: 0.6360 - val_acc: 0.6106 - val_precision: 0.6182 - val_recall: 0.6113\n",
      "Epoch 16/100\n",
      "100/100 [==============================] - 15s 146ms/step - loss: 0.6798 - acc: 0.5719 - precision: 0.5670 - recall: 0.6442 - val_loss: 0.6510 - val_acc: 0.5896 - val_precision: 0.5596 - val_recall: 0.7928\n",
      "Epoch 17/100\n",
      "100/100 [==============================] - 15s 147ms/step - loss: 0.6757 - acc: 0.5750 - precision: 0.5659 - recall: 0.6116 - val_loss: 0.6230 - val_acc: 0.5985 - val_precision: 0.5922 - val_recall: 0.5347\n",
      "Epoch 18/100\n",
      "100/100 [==============================] - 15s 149ms/step - loss: 0.6771 - acc: 0.5778 - precision: 0.5693 - recall: 0.6609 - val_loss: 0.6236 - val_acc: 0.6004 - val_precision: 0.6228 - val_recall: 0.5591\n",
      "Epoch 19/100\n",
      "100/100 [==============================] - 18s 180ms/step - loss: 0.6806 - acc: 0.5729 - precision: 0.5652 - recall: 0.6270 - val_loss: 0.7284 - val_acc: 0.6149 - val_precision: 0.6054 - val_recall: 0.6709\n",
      "Epoch 20/100\n",
      "100/100 [==============================] - 15s 155ms/step - loss: 0.6780 - acc: 0.5722 - precision: 0.5632 - recall: 0.5971 - val_loss: 0.6707 - val_acc: 0.6219 - val_precision: 0.6211 - val_recall: 0.6203\n",
      "Epoch 21/100\n",
      "100/100 [==============================] - 16s 157ms/step - loss: 0.6671 - acc: 0.5922 - precision: 0.5901 - recall: 0.6400 - val_loss: 0.5687 - val_acc: 0.6174 - val_precision: 0.6570 - val_recall: 0.5075\n",
      "Epoch 22/100\n",
      "100/100 [==============================] - 15s 150ms/step - loss: 0.6719 - acc: 0.5776 - precision: 0.5713 - recall: 0.5891 - val_loss: 0.6267 - val_acc: 0.6149 - val_precision: 0.6033 - val_recall: 0.6096\n",
      "Epoch 23/100\n",
      "100/100 [==============================] - 15s 150ms/step - loss: 0.6740 - acc: 0.5807 - precision: 0.5737 - recall: 0.6303 - val_loss: 0.6941 - val_acc: 0.6004 - val_precision: 0.6772 - val_recall: 0.4411\n",
      "Epoch 24/100\n",
      "100/100 [==============================] - 15s 151ms/step - loss: 0.6766 - acc: 0.5741 - precision: 0.5670 - recall: 0.6016 - val_loss: 0.6517 - val_acc: 0.6282 - val_precision: 0.6150 - val_recall: 0.6521\n",
      "Epoch 25/100\n",
      "100/100 [==============================] - 15s 147ms/step - loss: 0.6761 - acc: 0.5872 - precision: 0.5832 - recall: 0.6271 - val_loss: 0.6349 - val_acc: 0.6275 - val_precision: 0.6259 - val_recall: 0.6476\n",
      "Epoch 26/100\n",
      "100/100 [==============================] - 16s 163ms/step - loss: 0.6705 - acc: 0.5863 - precision: 0.5792 - recall: 0.6348 - val_loss: 0.6236 - val_acc: 0.6206 - val_precision: 0.7173 - val_recall: 0.3901\n",
      "Epoch 27/100\n",
      "100/100 [==============================] - 15s 149ms/step - loss: 0.6706 - acc: 0.5835 - precision: 0.5784 - recall: 0.6390 - val_loss: 0.6579 - val_acc: 0.6212 - val_precision: 0.6762 - val_recall: 0.4522\n",
      "Epoch 28/100\n",
      "100/100 [==============================] - 14s 145ms/step - loss: 0.6680 - acc: 0.5941 - precision: 0.5880 - recall: 0.6164 - val_loss: 0.5955 - val_acc: 0.6282 - val_precision: 0.6940 - val_recall: 0.4833\n",
      "Epoch 29/100\n",
      "100/100 [==============================] - 16s 160ms/step - loss: 0.6703 - acc: 0.5869 - precision: 0.5788 - recall: 0.5684 - val_loss: 0.5898 - val_acc: 0.6351 - val_precision: 0.6059 - val_recall: 0.7598\n",
      "Epoch 30/100\n",
      "100/100 [==============================] - 14s 143ms/step - loss: 0.6602 - acc: 0.6005 - precision: 0.5956 - recall: 0.6417 - val_loss: 0.7160 - val_acc: 0.6500 - val_precision: 0.6731 - val_recall: 0.6034\n",
      "Epoch 31/100\n",
      "100/100 [==============================] - 16s 157ms/step - loss: 0.6697 - acc: 0.5838 - precision: 0.5796 - recall: 0.6172 - val_loss: 0.5982 - val_acc: 0.6345 - val_precision: 0.7635 - val_recall: 0.3508\n",
      "Epoch 32/100\n",
      "100/100 [==============================] - 15s 147ms/step - loss: 0.6665 - acc: 0.5916 - precision: 0.5890 - recall: 0.6395 - val_loss: 0.5549 - val_acc: 0.6237 - val_precision: 0.7535 - val_recall: 0.3953\n",
      "Epoch 33/100\n",
      "100/100 [==============================] - 15s 146ms/step - loss: 0.6618 - acc: 0.6044 - precision: 0.6006 - recall: 0.6246 - val_loss: 0.6136 - val_acc: 0.6616 - val_precision: 0.6375 - val_recall: 0.7531\n",
      "Epoch 34/100\n",
      "100/100 [==============================] - 16s 156ms/step - loss: 0.6529 - acc: 0.6159 - precision: 0.6126 - recall: 0.6253 - val_loss: 0.5859 - val_acc: 0.6475 - val_precision: 0.7568 - val_recall: 0.4215\n",
      "Epoch 35/100\n",
      "100/100 [==============================] - 15s 147ms/step - loss: 0.6542 - acc: 0.6112 - precision: 0.6102 - recall: 0.5971 - val_loss: 0.5850 - val_acc: 0.6408 - val_precision: 0.5956 - val_recall: 0.8601\n",
      "Epoch 36/100\n",
      "100/100 [==============================] - 15s 149ms/step - loss: 0.6558 - acc: 0.6071 - precision: 0.6022 - recall: 0.6513 - val_loss: 0.6354 - val_acc: 0.6698 - val_precision: 0.7577 - val_recall: 0.5186\n",
      "Epoch 37/100\n",
      "100/100 [==============================] - 14s 145ms/step - loss: 0.6579 - acc: 0.6091 - precision: 0.6106 - recall: 0.5911 - val_loss: 0.5493 - val_acc: 0.6521 - val_precision: 0.6029 - val_recall: 0.8548\n",
      "Epoch 38/100\n",
      "100/100 [==============================] - 14s 142ms/step - loss: 0.6498 - acc: 0.6216 - precision: 0.6191 - recall: 0.6094 - val_loss: 0.5201 - val_acc: 0.6938 - val_precision: 0.7139 - val_recall: 0.6558\n",
      "Epoch 39/100\n",
      "100/100 [==============================] - 14s 138ms/step - loss: 0.6458 - acc: 0.6231 - precision: 0.6241 - recall: 0.6608 - val_loss: 0.6227 - val_acc: 0.6862 - val_precision: 0.7414 - val_recall: 0.5684\n",
      "Epoch 40/100\n",
      "100/100 [==============================] - 19s 190ms/step - loss: 0.6412 - acc: 0.6281 - precision: 0.6293 - recall: 0.6030 - val_loss: 0.6839 - val_acc: 0.6547 - val_precision: 0.6123 - val_recall: 0.8759\n",
      "Epoch 41/100\n",
      "100/100 [==============================] - 16s 164ms/step - loss: 0.6414 - acc: 0.6247 - precision: 0.6223 - recall: 0.6259 - val_loss: 0.5465 - val_acc: 0.7001 - val_precision: 0.6616 - val_recall: 0.8269\n",
      "Epoch 42/100\n",
      "100/100 [==============================] - 15s 146ms/step - loss: 0.6482 - acc: 0.6156 - precision: 0.6235 - recall: 0.6089 - val_loss: 0.5944 - val_acc: 0.7153 - val_precision: 0.7989 - val_recall: 0.5676\n",
      "Epoch 43/100\n",
      "100/100 [==============================] - 15s 147ms/step - loss: 0.6497 - acc: 0.6193 - precision: 0.6264 - recall: 0.6116 - val_loss: 0.5153 - val_acc: 0.6806 - val_precision: 0.6259 - val_recall: 0.8814\n",
      "Epoch 44/100\n",
      "100/100 [==============================] - 15s 153ms/step - loss: 0.6302 - acc: 0.6459 - precision: 0.6490 - recall: 0.6232 - val_loss: 0.4864 - val_acc: 0.7206 - val_precision: 0.6985 - val_recall: 0.7763\n",
      "Epoch 45/100\n",
      "100/100 [==============================] - 15s 152ms/step - loss: 0.6447 - acc: 0.6259 - precision: 0.6286 - recall: 0.5996 - val_loss: 0.5311 - val_acc: 0.7342 - val_precision: 0.7567 - val_recall: 0.7011\n",
      "Epoch 46/100\n",
      "100/100 [==============================] - 15s 148ms/step - loss: 0.6317 - acc: 0.6413 - precision: 0.6531 - recall: 0.6427 - val_loss: 0.4635 - val_acc: 0.7266 - val_precision: 0.7014 - val_recall: 0.7607\n",
      "Epoch 47/100\n",
      "100/100 [==============================] - 15s 146ms/step - loss: 0.6260 - acc: 0.6465 - precision: 0.6545 - recall: 0.5816 - val_loss: 0.5928 - val_acc: 0.7582 - val_precision: 0.8123 - val_recall: 0.6848\n",
      "Epoch 48/100\n",
      "100/100 [==============================] - 15s 148ms/step - loss: 0.6301 - acc: 0.6425 - precision: 0.6578 - recall: 0.6098 - val_loss: 0.5314 - val_acc: 0.7304 - val_precision: 0.7710 - val_recall: 0.6458\n",
      "Epoch 49/100\n",
      "100/100 [==============================] - 15s 148ms/step - loss: 0.6288 - acc: 0.6363 - precision: 0.6444 - recall: 0.5948 - val_loss: 0.6567 - val_acc: 0.7063 - val_precision: 0.9152 - val_recall: 0.4570\n",
      "Epoch 50/100\n",
      "100/100 [==============================] - 15s 151ms/step - loss: 0.6263 - acc: 0.6419 - precision: 0.6520 - recall: 0.6105 - val_loss: 0.4333 - val_acc: 0.7235 - val_precision: 0.8151 - val_recall: 0.5754\n",
      "Epoch 51/100\n",
      "100/100 [==============================] - 15s 149ms/step - loss: 0.6114 - acc: 0.6603 - precision: 0.6727 - recall: 0.6269 - val_loss: 0.6820 - val_acc: 0.7569 - val_precision: 0.7322 - val_recall: 0.8255\n",
      "Epoch 52/100\n",
      "100/100 [==============================] - 17s 168ms/step - loss: 0.6100 - acc: 0.6705 - precision: 0.6787 - recall: 0.6563 - val_loss: 0.5500 - val_acc: 0.7633 - val_precision: 0.7537 - val_recall: 0.7739\n",
      "Epoch 53/100\n",
      "100/100 [==============================] - 15s 148ms/step - loss: 0.6064 - acc: 0.6778 - precision: 0.6962 - recall: 0.6202 - val_loss: 0.4249 - val_acc: 0.7468 - val_precision: 0.7032 - val_recall: 0.8488\n",
      "Epoch 54/100\n",
      "100/100 [==============================] - 15s 153ms/step - loss: 0.6036 - acc: 0.6694 - precision: 0.6831 - recall: 0.6648 - val_loss: 0.4068 - val_acc: 0.7600 - val_precision: 0.7795 - val_recall: 0.7184\n",
      "Epoch 55/100\n",
      "100/100 [==============================] - 15s 155ms/step - loss: 0.6065 - acc: 0.6778 - precision: 0.6912 - recall: 0.6032 - val_loss: 0.4943 - val_acc: 0.7753 - val_precision: 0.7766 - val_recall: 0.7727\n",
      "Epoch 56/100\n",
      "100/100 [==============================] - 16s 159ms/step - loss: 0.5967 - acc: 0.6831 - precision: 0.6978 - recall: 0.6390 - val_loss: 0.5236 - val_acc: 0.7557 - val_precision: 0.8412 - val_recall: 0.6423\n",
      "Epoch 57/100\n",
      "100/100 [==============================] - 15s 150ms/step - loss: 0.5908 - acc: 0.6862 - precision: 0.7096 - recall: 0.6326 - val_loss: 0.5614 - val_acc: 0.7967 - val_precision: 0.7864 - val_recall: 0.7966\n",
      "Epoch 58/100\n",
      "100/100 [==============================] - 14s 144ms/step - loss: 0.5993 - acc: 0.6716 - precision: 0.6882 - recall: 0.6489 - val_loss: 0.3728 - val_acc: 0.7683 - val_precision: 0.7826 - val_recall: 0.7565\n",
      "Epoch 59/100\n",
      "100/100 [==============================] - 15s 148ms/step - loss: 0.5799 - acc: 0.6847 - precision: 0.6968 - recall: 0.6503 - val_loss: 0.4727 - val_acc: 0.7756 - val_precision: 0.8636 - val_recall: 0.6626\n",
      "Epoch 60/100\n",
      "100/100 [==============================] - 15s 147ms/step - loss: 0.5851 - acc: 0.6847 - precision: 0.6943 - recall: 0.6391 - val_loss: 0.4855 - val_acc: 0.7866 - val_precision: 0.7671 - val_recall: 0.8031\n",
      "Epoch 61/100\n",
      "100/100 [==============================] - 14s 140ms/step - loss: 0.5776 - acc: 0.6919 - precision: 0.7095 - recall: 0.6453 - val_loss: 0.5067 - val_acc: 0.7639 - val_precision: 0.7274 - val_recall: 0.8664\n",
      "Epoch 62/100\n",
      "100/100 [==============================] - 14s 142ms/step - loss: 0.5790 - acc: 0.6913 - precision: 0.7065 - recall: 0.6718 - val_loss: 0.5044 - val_acc: 0.7759 - val_precision: 0.7989 - val_recall: 0.7305\n",
      "Epoch 63/100\n",
      "100/100 [==============================] - 14s 141ms/step - loss: 0.5709 - acc: 0.7019 - precision: 0.7234 - recall: 0.6479 - val_loss: 0.6324 - val_acc: 0.7955 - val_precision: 0.8284 - val_recall: 0.7446\n",
      "Epoch 64/100\n",
      "100/100 [==============================] - 15s 146ms/step - loss: 0.5716 - acc: 0.7016 - precision: 0.7166 - recall: 0.6563 - val_loss: 0.6178 - val_acc: 0.7912 - val_precision: 0.7948 - val_recall: 0.7948\n",
      "Epoch 65/100\n",
      "100/100 [==============================] - 15s 149ms/step - loss: 0.5859 - acc: 0.6862 - precision: 0.7016 - recall: 0.6629 - val_loss: 0.4030 - val_acc: 0.7929 - val_precision: 0.7870 - val_recall: 0.7990\n",
      "Epoch 66/100\n",
      "100/100 [==============================] - 15s 146ms/step - loss: 0.5779 - acc: 0.6931 - precision: 0.7035 - recall: 0.6508 - val_loss: 0.5004 - val_acc: 0.7664 - val_precision: 0.8851 - val_recall: 0.5889\n",
      "Epoch 67/100\n",
      "100/100 [==============================] - 15s 149ms/step - loss: 0.5705 - acc: 0.7072 - precision: 0.7217 - recall: 0.6781 - val_loss: 0.4282 - val_acc: 0.7816 - val_precision: 0.8820 - val_recall: 0.6703\n",
      "Epoch 68/100\n",
      "100/100 [==============================] - 15s 145ms/step - loss: 0.5693 - acc: 0.7013 - precision: 0.7130 - recall: 0.6711 - val_loss: 0.4286 - val_acc: 0.7981 - val_precision: 0.8466 - val_recall: 0.7238\n",
      "Epoch 69/100\n",
      "100/100 [==============================] - 15s 148ms/step - loss: 0.5624 - acc: 0.7114 - precision: 0.7407 - recall: 0.6652 - val_loss: 0.5895 - val_acc: 0.7809 - val_precision: 0.7356 - val_recall: 0.8745\n",
      "Epoch 70/100\n",
      "100/100 [==============================] - 15s 147ms/step - loss: 0.5625 - acc: 0.7057 - precision: 0.7158 - recall: 0.6885 - val_loss: 0.6120 - val_acc: 0.7588 - val_precision: 0.6978 - val_recall: 0.8912\n",
      "Epoch 71/100\n",
      "100/100 [==============================] - 14s 144ms/step - loss: 0.5676 - acc: 0.7031 - precision: 0.7207 - recall: 0.6602 - val_loss: 0.4651 - val_acc: 0.8125 - val_precision: 0.8014 - val_recall: 0.8456\n",
      "Epoch 72/100\n",
      "100/100 [==============================] - 15s 148ms/step - loss: 0.5524 - acc: 0.7188 - precision: 0.7374 - recall: 0.6734 - val_loss: 0.3278 - val_acc: 0.7986 - val_precision: 0.8291 - val_recall: 0.7503\n",
      "Epoch 73/100\n",
      "100/100 [==============================] - 15s 151ms/step - loss: 0.5429 - acc: 0.7236 - precision: 0.7426 - recall: 0.6611 - val_loss: 0.6539 - val_acc: 0.8031 - val_precision: 0.7787 - val_recall: 0.8442\n",
      "Epoch 74/100\n",
      "100/100 [==============================] - 16s 155ms/step - loss: 0.5595 - acc: 0.7022 - precision: 0.7264 - recall: 0.6766 - val_loss: 0.6083 - val_acc: 0.8011 - val_precision: 0.7598 - val_recall: 0.8815\n",
      "Epoch 75/100\n"
     ]
    },
    {
     "name": "stdout",
     "output_type": "stream",
     "text": [
      "100/100 [==============================] - 15s 152ms/step - loss: 0.5472 - acc: 0.7209 - precision: 0.7429 - recall: 0.6725 - val_loss: 0.3031 - val_acc: 0.8125 - val_precision: 0.8690 - val_recall: 0.7364\n",
      "Epoch 76/100\n",
      "100/100 [==============================] - 15s 150ms/step - loss: 0.5476 - acc: 0.7170 - precision: 0.7377 - recall: 0.6713 - val_loss: 0.4046 - val_acc: 0.7828 - val_precision: 0.8976 - val_recall: 0.6303\n",
      "Epoch 77/100\n",
      "100/100 [==============================] - 15s 146ms/step - loss: 0.5466 - acc: 0.7169 - precision: 0.7372 - recall: 0.6746 - val_loss: 0.4856 - val_acc: 0.8037 - val_precision: 0.8468 - val_recall: 0.7462\n",
      "Epoch 78/100\n",
      "100/100 [==============================] - 15s 146ms/step - loss: 0.5510 - acc: 0.7144 - precision: 0.7319 - recall: 0.6771 - val_loss: 0.4233 - val_acc: 0.8012 - val_precision: 0.8992 - val_recall: 0.6836\n",
      "Epoch 79/100\n",
      "100/100 [==============================] - 14s 143ms/step - loss: 0.5450 - acc: 0.7219 - precision: 0.7422 - recall: 0.6800 - val_loss: 0.5396 - val_acc: 0.8018 - val_precision: 0.9158 - val_recall: 0.6624\n",
      "Epoch 80/100\n",
      "100/100 [==============================] - 14s 142ms/step - loss: 0.5400 - acc: 0.7281 - precision: 0.7477 - recall: 0.7037 - val_loss: 0.5144 - val_acc: 0.7822 - val_precision: 0.7263 - val_recall: 0.9038\n",
      "Epoch 81/100\n",
      "100/100 [==============================] - 14s 142ms/step - loss: 0.5367 - acc: 0.7337 - precision: 0.7543 - recall: 0.6858 - val_loss: 0.3808 - val_acc: 0.8169 - val_precision: 0.8540 - val_recall: 0.7548\n",
      "Epoch 82/100\n",
      "100/100 [==============================] - 14s 141ms/step - loss: 0.5245 - acc: 0.7434 - precision: 0.7607 - recall: 0.7022 - val_loss: 0.4264 - val_acc: 0.8112 - val_precision: 0.8507 - val_recall: 0.7684\n",
      "Epoch 83/100\n",
      "100/100 [==============================] - 14s 142ms/step - loss: 0.5357 - acc: 0.7287 - precision: 0.7548 - recall: 0.6826 - val_loss: 0.3103 - val_acc: 0.8194 - val_precision: 0.8512 - val_recall: 0.7735\n",
      "Epoch 84/100\n",
      "100/100 [==============================] - 15s 150ms/step - loss: 0.5361 - acc: 0.7278 - precision: 0.7476 - recall: 0.6903 - val_loss: 0.4713 - val_acc: 0.8131 - val_precision: 0.7985 - val_recall: 0.8331\n",
      "Epoch 85/100\n",
      "100/100 [==============================] - 15s 152ms/step - loss: 0.5347 - acc: 0.7177 - precision: 0.7375 - recall: 0.6818 - val_loss: 0.4144 - val_acc: 0.8106 - val_precision: 0.8904 - val_recall: 0.7159\n",
      "Epoch 86/100\n",
      "100/100 [==============================] - 15s 145ms/step - loss: 0.5310 - acc: 0.7353 - precision: 0.7623 - recall: 0.6707 - val_loss: 0.4826 - val_acc: 0.8295 - val_precision: 0.8072 - val_recall: 0.8495\n",
      "Epoch 87/100\n",
      "100/100 [==============================] - 14s 144ms/step - loss: 0.5133 - acc: 0.7418 - precision: 0.7613 - recall: 0.7161 - val_loss: 0.3169 - val_acc: 0.8333 - val_precision: 0.8370 - val_recall: 0.8370\n",
      "Epoch 88/100\n",
      "100/100 [==============================] - 14s 144ms/step - loss: 0.5273 - acc: 0.7331 - precision: 0.7509 - recall: 0.6703 - val_loss: 0.4004 - val_acc: 0.8025 - val_precision: 0.9095 - val_recall: 0.6745\n",
      "Epoch 89/100\n",
      "100/100 [==============================] - 15s 152ms/step - loss: 0.5215 - acc: 0.7391 - precision: 0.7595 - recall: 0.7251 - val_loss: 0.3817 - val_acc: 0.8213 - val_precision: 0.8076 - val_recall: 0.8471\n",
      "Epoch 90/100\n",
      "100/100 [==============================] - 14s 142ms/step - loss: 0.5182 - acc: 0.7305 - precision: 0.7504 - recall: 0.6722 - val_loss: 0.3226 - val_acc: 0.8251 - val_precision: 0.7995 - val_recall: 0.8690\n",
      "Epoch 91/100\n",
      "100/100 [==============================] - 15s 150ms/step - loss: 0.5149 - acc: 0.7475 - precision: 0.7676 - recall: 0.7153 - val_loss: 0.3433 - val_acc: 0.8150 - val_precision: 0.7871 - val_recall: 0.8512\n",
      "Epoch 92/100\n",
      "100/100 [==============================] - 14s 142ms/step - loss: 0.5154 - acc: 0.7418 - precision: 0.7671 - recall: 0.6851 - val_loss: 0.3138 - val_acc: 0.8220 - val_precision: 0.8546 - val_recall: 0.7823\n",
      "Epoch 93/100\n",
      "100/100 [==============================] - 15s 150ms/step - loss: 0.5132 - acc: 0.7412 - precision: 0.7690 - recall: 0.7029 - val_loss: 0.4883 - val_acc: 0.8263 - val_precision: 0.8252 - val_recall: 0.8273\n",
      "Epoch 94/100\n",
      "100/100 [==============================] - 15s 153ms/step - loss: 0.5114 - acc: 0.7478 - precision: 0.7664 - recall: 0.7070 - val_loss: 0.3084 - val_acc: 0.8188 - val_precision: 0.8910 - val_recall: 0.7250\n",
      "Epoch 95/100\n",
      "100/100 [==============================] - 15s 148ms/step - loss: 0.5158 - acc: 0.7453 - precision: 0.7702 - recall: 0.6864 - val_loss: 0.4027 - val_acc: 0.8327 - val_precision: 0.8420 - val_recall: 0.8175\n",
      "Epoch 96/100\n",
      "100/100 [==============================] - 14s 144ms/step - loss: 0.5057 - acc: 0.7428 - precision: 0.7701 - recall: 0.7081 - val_loss: 0.2949 - val_acc: 0.8359 - val_precision: 0.9183 - val_recall: 0.7327\n",
      "Epoch 97/100\n",
      "100/100 [==============================] - 15s 152ms/step - loss: 0.5050 - acc: 0.7466 - precision: 0.7689 - recall: 0.7018 - val_loss: 0.4634 - val_acc: 0.8256 - val_precision: 0.8703 - val_recall: 0.7704\n",
      "Epoch 98/100\n",
      "100/100 [==============================] - 14s 145ms/step - loss: 0.4972 - acc: 0.7459 - precision: 0.7713 - recall: 0.6984 - val_loss: 0.3957 - val_acc: 0.8321 - val_precision: 0.8280 - val_recall: 0.8405\n",
      "Epoch 99/100\n",
      "100/100 [==============================] - 15s 153ms/step - loss: 0.5254 - acc: 0.7253 - precision: 0.7527 - recall: 0.6887 - val_loss: 0.5072 - val_acc: 0.8346 - val_precision: 0.8986 - val_recall: 0.7490\n",
      "Epoch 100/100\n",
      "100/100 [==============================] - 14s 143ms/step - loss: 0.5011 - acc: 0.7553 - precision: 0.7729 - recall: 0.7112 - val_loss: 0.4895 - val_acc: 0.8194 - val_precision: 0.8950 - val_recall: 0.7304\n"
     ]
    }
   ],
   "source": [
    "train_datagen = ImageDataGenerator(\n",
    "    rescale=1./255,\n",
    "    rotation_range=40,\n",
    "    width_shift_range=0.2,\n",
    "    height_shift_range=0.2,\n",
    "    shear_range=0.2,\n",
    "    zoom_range=0.2,\n",
    "    horizontal_flip=True,)\n",
    "\n",
    "test_datagen = ImageDataGenerator(rescale=1./255)\n",
    "\n",
    "train_generator = train_datagen.flow_from_directory(\n",
    "    train_dir,\n",
    "    target_size=(48, 48),\n",
    "    batch_size=32,\n",
    "    class_mode='binary')\n",
    "\n",
    "validation_generator = test_datagen.flow_from_directory(\n",
    "    validation_dir,\n",
    "    target_size=(48, 48),\n",
    "    batch_size=32,\n",
    "    class_mode='binary')\n",
    "\n",
    "# run with more epochs\n",
    "history = improved_model.fit_generator(\n",
    "    train_generator,\n",
    "    steps_per_epoch=100,\n",
    "    epochs=100,\n",
    "    validation_data=validation_generator,\n",
    "    validation_steps=50)"
   ]
  },
  {
   "cell_type": "code",
   "execution_count": 238,
   "metadata": {},
   "outputs": [],
   "source": [
    "improved_model.save('face_recognition_2.h5')"
   ]
  },
  {
   "cell_type": "code",
   "execution_count": 239,
   "metadata": {},
   "outputs": [
    {
     "data": {
      "image/png": "[encoded data removed]",
      "text/plain": [
       "<Figure size 432x288 with 1 Axes>"
      ]
     },
     "metadata": {
      "needs_background": "light"
     },
     "output_type": "display_data"
    },
    {
     "data": {
      "image/png": "[encoded data removed]",
      "text/plain": [
       "<Figure size 432x288 with 1 Axes>"
      ]
     },
     "metadata": {
      "needs_background": "light"
     },
     "output_type": "display_data"
    }
   ],
   "source": [
    "acc = history.history['acc']\n",
    "val_acc = history.history['val_acc']\n",
    "loss = history.history['loss']\n",
    "val_loss = history.history['val_loss']\n",
    "precision = history.history['precision']\n",
    "recall = history.history['recall']\n",
    "\n",
    "epochs = range(1, len(acc) + 1)\n",
    "\n",
    "plt.plot(epochs, acc, 'bo', label='Training acc')\n",
    "plt.plot(epochs, val_acc, 'b', label='Validation acc')\n",
    "plt.title('Training and validation accuracy')\n",
    "plt.legend()\n",
    "\n",
    "plt.figure()\n",
    "\n",
    "plt.plot(epochs, loss, 'bo', label='Training loss')\n",
    "plt.plot(epochs, val_loss, 'b', label='Validation loss')\n",
    "plt.title('Training and validation loss')\n",
    "plt.legend()\n",
    "\n",
    "plt.show()"
   ]
  },
  {
   "cell_type": "code",
   "execution_count": 240,
   "metadata": {},
   "outputs": [
    {
     "name": "stdout",
     "output_type": "stream",
     "text": [
      "Max accuracy score for the model: 0.7553392\n",
      "Max validation accuracy score for the model 0.8358585834503174\n",
      "Max Precision score for the model: 0.7729167\n",
      "Max Recall score for the model: 0.72507554\n"
     ]
    }
   ],
   "source": [
    "print(\"Max accuracy score for the model:\", max(acc))\n",
    "print(\"Max validation accuracy score for the model\", max(val_acc))\n",
    "print(\"Max Precision score for the model:\", max(precision))\n",
    "print(\"Max Recall score for the model:\", max(recall))"
   ]
  },
  {
   "cell_type": "code",
   "execution_count": 77,
   "metadata": {},
   "outputs": [],
   "source": [
    "# recall score, precison score"
   ]
  },
  {
   "cell_type": "markdown",
   "metadata": {},
   "source": [
    "# Pre-Trained Model Implementation"
   ]
  },
  {
   "cell_type": "code",
   "execution_count": 41,
   "metadata": {},
   "outputs": [],
   "source": [
    "from keras_vggface import VGGFace\n",
    "# from keras_facenet import FaceNet"
   ]
  },
  {
   "cell_type": "code",
   "execution_count": 42,
   "metadata": {},
   "outputs": [],
   "source": [
    "#facenet"
   ]
  },
  {
   "cell_type": "code",
   "execution_count": 43,
   "metadata": {},
   "outputs": [],
   "source": [
    "conv_base = VGGFace(weights='vggface',\n",
    "    include_top=False,\n",
    "    input_shape=(48, 48, 3))"
   ]
  },
  {
   "cell_type": "code",
   "execution_count": 44,
   "metadata": {},
   "outputs": [
    {
     "name": "stdout",
     "output_type": "stream",
     "text": [
      "Model: \"vggface_vgg16\"\n",
      "_________________________________________________________________\n",
      "Layer (type)                 Output Shape              Param #   \n",
      "=================================================================\n",
      "input_3 (InputLayer)         (None, 48, 48, 3)         0         \n",
      "_________________________________________________________________\n",
      "conv1_1 (Conv2D)             (None, 48, 48, 64)        1792      \n",
      "_________________________________________________________________\n",
      "conv1_2 (Conv2D)             (None, 48, 48, 64)        36928     \n",
      "_________________________________________________________________\n",
      "pool1 (MaxPooling2D)         (None, 24, 24, 64)        0         \n",
      "_________________________________________________________________\n",
      "conv2_1 (Conv2D)             (None, 24, 24, 128)       73856     \n",
      "_________________________________________________________________\n",
      "conv2_2 (Conv2D)             (None, 24, 24, 128)       147584    \n",
      "_________________________________________________________________\n",
      "pool2 (MaxPooling2D)         (None, 12, 12, 128)       0         \n",
      "_________________________________________________________________\n",
      "conv3_1 (Conv2D)             (None, 12, 12, 256)       295168    \n",
      "_________________________________________________________________\n",
      "conv3_2 (Conv2D)             (None, 12, 12, 256)       590080    \n",
      "_________________________________________________________________\n",
      "conv3_3 (Conv2D)             (None, 12, 12, 256)       590080    \n",
      "_________________________________________________________________\n",
      "pool3 (MaxPooling2D)         (None, 6, 6, 256)         0         \n",
      "_________________________________________________________________\n",
      "conv4_1 (Conv2D)             (None, 6, 6, 512)         1180160   \n",
      "_________________________________________________________________\n",
      "conv4_2 (Conv2D)             (None, 6, 6, 512)         2359808   \n",
      "_________________________________________________________________\n",
      "conv4_3 (Conv2D)             (None, 6, 6, 512)         2359808   \n",
      "_________________________________________________________________\n",
      "pool4 (MaxPooling2D)         (None, 3, 3, 512)         0         \n",
      "_________________________________________________________________\n",
      "conv5_1 (Conv2D)             (None, 3, 3, 512)         2359808   \n",
      "_________________________________________________________________\n",
      "conv5_2 (Conv2D)             (None, 3, 3, 512)         2359808   \n",
      "_________________________________________________________________\n",
      "conv5_3 (Conv2D)             (None, 3, 3, 512)         2359808   \n",
      "_________________________________________________________________\n",
      "pool5 (MaxPooling2D)         (None, 1, 1, 512)         0         \n",
      "=================================================================\n",
      "Total params: 14,714,688\n",
      "Trainable params: 14,714,688\n",
      "Non-trainable params: 0\n",
      "_________________________________________________________________\n"
     ]
    }
   ],
   "source": [
    "conv_base.summary()"
   ]
  },
  {
   "cell_type": "code",
   "execution_count": 33,
   "metadata": {},
   "outputs": [],
   "source": [
    "import os\n",
    "import numpy as np\n",
    "from keras.preprocessing.image import ImageDataGenerator\n",
    "\n",
    "base_dir = '/Users/Davidaarhus/Documents/CPSC_393/Project_datasets'\n",
    "train_dir = os.path.join(base_dir, 'train')\n",
    "validation_dir = os.path.join(base_dir, 'validation')\n",
    "test_dir = os.path.join(base_dir, 'test')\n",
    "\n",
    "datagen = ImageDataGenerator(rescale=1./255)\n",
    "batch_size = 20"
   ]
  },
  {
   "cell_type": "code",
   "execution_count": 34,
   "metadata": {},
   "outputs": [],
   "source": [
    "def extract_features(directory, sample_count):\n",
    "    features = np.zeros(shape=(sample_count, 1, 1, 512))\n",
    "    labels = np.zeros(shape=(sample_count))\n",
    "    generator = datagen.flow_from_directory(\n",
    "        directory,\n",
    "        target_size=(48, 48),\n",
    "        batch_size=batch_size,\n",
    "        class_mode='binary')\n",
    "    i=0\n",
    "    for inputs_batch, labels_batch in generator:\n",
    "        features_batch = conv_base.predict(inputs_batch)\n",
    "        features[i * batch_size : (i + 1) * batch_size] = features_batch\n",
    "        labels[i * batch_size : (i + 1) * batch_size] = labels_batch\n",
    "        i += 1\n",
    "        if i * batch_size >= sample_count:\n",
    "            break\n",
    "    return features, labels"
   ]
  },
  {
   "cell_type": "code",
   "execution_count": 18,
   "metadata": {},
   "outputs": [
    {
     "name": "stdout",
     "output_type": "stream",
     "text": [
      "Found 10000 images belonging to 2 classes.\n",
      "Found 2000 images belonging to 2 classes.\n",
      "Found 2000 images belonging to 2 classes.\n"
     ]
    }
   ],
   "source": [
    "train_features, train_labels = extract_features(train_dir, 10000)\n",
    "validation_features, validation_labels = extract_features(validation_dir, 2000)\n",
    "test_features, test_labels = extract_features(test_dir, 2000)"
   ]
  },
  {
   "cell_type": "code",
   "execution_count": 19,
   "metadata": {},
   "outputs": [],
   "source": [
    "train_features = np.reshape(train_features, (10000, 1 * 1 * 512))\n",
    "validation_features = np.reshape(validation_features, (2000, 1 * 1 * 512))\n",
    "test_features = np.reshape(test_features, (2000, 1 * 1 * 512))"
   ]
  },
  {
   "cell_type": "code",
   "execution_count": 40,
   "metadata": {},
   "outputs": [
    {
     "ename": "ValueError",
     "evalue": "Error when checking input: expected vggface_vgg16_input to have 4 dimensions, but got array with shape (10000, 512)",
     "output_type": "error",
     "traceback": [
      "\u001b[0;31m---------------------------------------------------------------------------\u001b[0m",
      "\u001b[0;31mValueError\u001b[0m                                Traceback (most recent call last)",
      "\u001b[0;32m<ipython-input-40-04a87912fbec>\u001b[0m in \u001b[0;36m<module>\u001b[0;34m\u001b[0m\n\u001b[1;32m     20\u001b[0m     \u001b[0mepochs\u001b[0m\u001b[0;34m=\u001b[0m\u001b[0;36m120\u001b[0m\u001b[0;34m,\u001b[0m\u001b[0;34m\u001b[0m\u001b[0;34m\u001b[0m\u001b[0m\n\u001b[1;32m     21\u001b[0m     \u001b[0mbatch_size\u001b[0m\u001b[0;34m=\u001b[0m\u001b[0;36m20\u001b[0m\u001b[0;34m,\u001b[0m\u001b[0;34m\u001b[0m\u001b[0;34m\u001b[0m\u001b[0m\n\u001b[0;32m---> 22\u001b[0;31m     validation_data=(validation_features, validation_labels))\n\u001b[0m",
      "\u001b[0;32m~/opt/anaconda3/lib/python3.7/site-packages/keras/engine/training.py\u001b[0m in \u001b[0;36mfit\u001b[0;34m(self, x, y, batch_size, epochs, verbose, callbacks, validation_split, validation_data, shuffle, class_weight, sample_weight, initial_epoch, steps_per_epoch, validation_steps, validation_freq, max_queue_size, workers, use_multiprocessing, **kwargs)\u001b[0m\n\u001b[1;32m   1152\u001b[0m             \u001b[0msample_weight\u001b[0m\u001b[0;34m=\u001b[0m\u001b[0msample_weight\u001b[0m\u001b[0;34m,\u001b[0m\u001b[0;34m\u001b[0m\u001b[0;34m\u001b[0m\u001b[0m\n\u001b[1;32m   1153\u001b[0m             \u001b[0mclass_weight\u001b[0m\u001b[0;34m=\u001b[0m\u001b[0mclass_weight\u001b[0m\u001b[0;34m,\u001b[0m\u001b[0;34m\u001b[0m\u001b[0;34m\u001b[0m\u001b[0m\n\u001b[0;32m-> 1154\u001b[0;31m             batch_size=batch_size)\n\u001b[0m\u001b[1;32m   1155\u001b[0m \u001b[0;34m\u001b[0m\u001b[0m\n\u001b[1;32m   1156\u001b[0m         \u001b[0;31m# Prepare validation data.\u001b[0m\u001b[0;34m\u001b[0m\u001b[0;34m\u001b[0m\u001b[0;34m\u001b[0m\u001b[0m\n",
      "\u001b[0;32m~/opt/anaconda3/lib/python3.7/site-packages/keras/engine/training.py\u001b[0m in \u001b[0;36m_standardize_user_data\u001b[0;34m(self, x, y, sample_weight, class_weight, check_array_lengths, batch_size)\u001b[0m\n\u001b[1;32m    577\u001b[0m             \u001b[0mfeed_input_shapes\u001b[0m\u001b[0;34m,\u001b[0m\u001b[0;34m\u001b[0m\u001b[0;34m\u001b[0m\u001b[0m\n\u001b[1;32m    578\u001b[0m             \u001b[0mcheck_batch_axis\u001b[0m\u001b[0;34m=\u001b[0m\u001b[0;32mFalse\u001b[0m\u001b[0;34m,\u001b[0m  \u001b[0;31m# Don't enforce the batch size.\u001b[0m\u001b[0;34m\u001b[0m\u001b[0;34m\u001b[0m\u001b[0m\n\u001b[0;32m--> 579\u001b[0;31m             exception_prefix='input')\n\u001b[0m\u001b[1;32m    580\u001b[0m \u001b[0;34m\u001b[0m\u001b[0m\n\u001b[1;32m    581\u001b[0m         \u001b[0;32mif\u001b[0m \u001b[0my\u001b[0m \u001b[0;32mis\u001b[0m \u001b[0;32mnot\u001b[0m \u001b[0;32mNone\u001b[0m\u001b[0;34m:\u001b[0m\u001b[0;34m\u001b[0m\u001b[0;34m\u001b[0m\u001b[0m\n",
      "\u001b[0;32m~/opt/anaconda3/lib/python3.7/site-packages/keras/engine/training_utils.py\u001b[0m in \u001b[0;36mstandardize_input_data\u001b[0;34m(data, names, shapes, check_batch_axis, exception_prefix)\u001b[0m\n\u001b[1;32m    133\u001b[0m                         \u001b[0;34m': expected '\u001b[0m \u001b[0;34m+\u001b[0m \u001b[0mnames\u001b[0m\u001b[0;34m[\u001b[0m\u001b[0mi\u001b[0m\u001b[0;34m]\u001b[0m \u001b[0;34m+\u001b[0m \u001b[0;34m' to have '\u001b[0m \u001b[0;34m+\u001b[0m\u001b[0;34m\u001b[0m\u001b[0;34m\u001b[0m\u001b[0m\n\u001b[1;32m    134\u001b[0m                         \u001b[0mstr\u001b[0m\u001b[0;34m(\u001b[0m\u001b[0mlen\u001b[0m\u001b[0;34m(\u001b[0m\u001b[0mshape\u001b[0m\u001b[0;34m)\u001b[0m\u001b[0;34m)\u001b[0m \u001b[0;34m+\u001b[0m \u001b[0;34m' dimensions, but got array '\u001b[0m\u001b[0;34m\u001b[0m\u001b[0;34m\u001b[0m\u001b[0m\n\u001b[0;32m--> 135\u001b[0;31m                         'with shape ' + str(data_shape))\n\u001b[0m\u001b[1;32m    136\u001b[0m                 \u001b[0;32mif\u001b[0m \u001b[0;32mnot\u001b[0m \u001b[0mcheck_batch_axis\u001b[0m\u001b[0;34m:\u001b[0m\u001b[0;34m\u001b[0m\u001b[0;34m\u001b[0m\u001b[0m\n\u001b[1;32m    137\u001b[0m                     \u001b[0mdata_shape\u001b[0m \u001b[0;34m=\u001b[0m \u001b[0mdata_shape\u001b[0m\u001b[0;34m[\u001b[0m\u001b[0;36m1\u001b[0m\u001b[0;34m:\u001b[0m\u001b[0;34m]\u001b[0m\u001b[0;34m\u001b[0m\u001b[0;34m\u001b[0m\u001b[0m\n",
      "\u001b[0;31mValueError\u001b[0m: Error when checking input: expected vggface_vgg16_input to have 4 dimensions, but got array with shape (10000, 512)"
     ]
    }
   ],
   "source": [
    "from keras import models\n",
    "from keras import layers\n",
    "from keras import optimizers\n",
    "\n",
    "metrics = [keras.metrics.BinaryAccuracy(name='acc'),\n",
    "           keras.metrics.Precision(name='precision'),\n",
    "           keras.metrics.Recall(name='recall')]\n",
    "\n",
    "model = models.Sequential()\n",
    "model.add(layers.Dense(256, activation='relu', input_dim=1 * 1 * 512))\n",
    "model.add(layers.Dropout(0.5))\n",
    "model.add(layers.Dense(1, activation='sigmoid'))\n",
    "\n",
    "model.compile(optimizer=optimizers.RMSprop(lr=2e-5),\n",
    "    loss='binary_crossentropy',\n",
    "    metrics=metrics)\n",
    "history = model.fit(train_features, train_labels,\n",
    "    epochs=120,\n",
    "    batch_size=20,\n",
    "    validation_data=(validation_features, validation_labels))"
   ]
  },
  {
   "cell_type": "code",
   "execution_count": 30,
   "metadata": {},
   "outputs": [
    {
     "data": {
      "image/png": "[encoded data removed]",
      "text/plain": [
       "<Figure size 432x288 with 1 Axes>"
      ]
     },
     "metadata": {
      "needs_background": "light"
     },
     "output_type": "display_data"
    },
    {
     "data": {
      "image/png": "[encoded data removed]",
      "text/plain": [
       "<Figure size 432x288 with 1 Axes>"
      ]
     },
     "metadata": {
      "needs_background": "light"
     },
     "output_type": "display_data"
    }
   ],
   "source": [
    "import matplotlib.pyplot as plt\n",
    "\n",
    "acc = history.history['acc']\n",
    "val_acc = history.history['val_acc']\n",
    "loss = history.history['loss']\n",
    "val_loss = history.history['val_loss']\n",
    "precision = history.history['precision']\n",
    "recall = history.history['recall']\n",
    "\n",
    "epochs = range(1, len(acc) + 1)\n",
    "\n",
    "plt.plot(epochs, acc, 'bo', label='Training acc')\n",
    "plt.plot(epochs, val_acc, 'b', label='Validation acc')\n",
    "plt.title('Training and validation accuracy')\n",
    "plt.legend()\n",
    "\n",
    "plt.figure()\n",
    "\n",
    "plt.plot(epochs, loss, 'bo', label='Training loss')\n",
    "plt.plot(epochs, val_loss, 'b', label='Validation loss')\n",
    "plt.title('Training and validation loss')\n",
    "plt.legend()\n",
    "\n",
    "plt.show()"
   ]
  },
  {
   "cell_type": "code",
   "execution_count": 27,
   "metadata": {},
   "outputs": [
    {
     "name": "stdout",
     "output_type": "stream",
     "text": [
      "Max accuracy score for the model: 0.6641\n",
      "Max validation accuracy score for the model 0.6575000286102295\n",
      "Max Precision score for the model: 0.6625074\n",
      "Max Recall score for the model: 0.67\n"
     ]
    }
   ],
   "source": [
    "print(\"Max accuracy score for the model:\", max(acc))\n",
    "print(\"Max validation accuracy score for the model\", max(val_acc))\n",
    "print(\"Max Precision score for the model:\", max(precision))\n",
    "print(\"Max Recall score for the model:\", max(recall))"
   ]
  },
  {
   "cell_type": "markdown",
   "metadata": {},
   "source": [
    "## Gender Bias Model"
   ]
  },
  {
   "cell_type": "code",
   "execution_count": 183,
   "metadata": {},
   "outputs": [],
   "source": [
    "# directory to imported male positive training images\n",
    "male_original_pos_train_dataset_dir = '/Users/Davidaarhus/Documents/CPSC_393/Project_images/images/male/male_positive_train' \n",
    "\n",
    "# directory to imported male positive validation images\n",
    "male_original_post_validation_dataset_dir = '/Users/Davidaarhus/Documents/CPSC_393/Project_images/images/male/male_positive_validation' \n",
    "\n",
    "# directory to imported male negative training images\n",
    "male_original_neg_train_dataset_dir = '/Users/Davidaarhus/Documents/CPSC_393/Project_images/images/male/male_negative_train'\n",
    "\n",
    "# directory to imported male negative validation images\n",
    "male_original_neg_validation_dataset_dir = '/Users/Davidaarhus/Documents/CPSC_393/Project_images/images/male/male_negative_validation'\n",
    "\n",
    "# directory to imported male positive test images\n",
    "male_original_pos_test_dataset_dir = '/Users/Davidaarhus/Documents/CPSC_393/Project_images/images/male/male_positive_test'\n",
    "\n",
    "# directory to imported male negative test images\n",
    "male_original_neg_test_dataset_dir = '/Users/Davidaarhus/Documents/CPSC_393/Project_images/images/male/male_negative_test'\n",
    "\n",
    "\n",
    "\n",
    "\n",
    "# directory to imported female positive training images\n",
    "female_original_pos_train_dataset_dir = '/Users/Davidaarhus/Documents/CPSC_393/Project_images/images/female/positive_female_train' \n",
    "\n",
    "# directory to imported female positive validation images\n",
    "female_original_post_validation_dataset_dir = '/Users/Davidaarhus/Documents/CPSC_393/Project_images/images/female/positive_female_validation' \n",
    "\n",
    "# directory to imported female negative training images\n",
    "female_original_neg_train_dataset_dir = '/Users/Davidaarhus/Documents/CPSC_393/Project_images/images/female/negative_female_train'\n",
    "\n",
    "# directory to imported female negative validation images\n",
    "female_original_neg_validation_dataset_dir = '/Users/Davidaarhus/Documents/CPSC_393/Project_images/images/female/negative_female_validation'\n",
    "\n",
    "# directory to imported female positive test images\n",
    "female_original_pos_test_dataset_dir = '/Users/Davidaarhus/Documents/CPSC_393/Project_images/images/female/positive_female_test'\n",
    "\n",
    "# directory to imported female negative test images\n",
    "female_original_neg_test_dataset_dir = '/Users/Davidaarhus/Documents/CPSC_393/Project_images/images/female/negative_female_test'\n",
    "\n",
    "\n",
    "\n",
    "base_dir = '/Users/Davidaarhus/Documents/CPSC_393/gender_Project_datasets' # new directory for NN datasets\n",
    "os.mkdir(base_dir)"
   ]
  },
  {
   "cell_type": "code",
   "execution_count": 184,
   "metadata": {},
   "outputs": [],
   "source": [
    "male_train_dir = os.path.join(base_dir, 'male_train') # creates train directory\n",
    "os.mkdir(male_train_dir)\n",
    "\n",
    "male_validation_dir = os.path.join(base_dir, 'male_validation') # creates validation directory\n",
    "os.mkdir(male_validation_dir)\n",
    "\n",
    "male_test_dir = os.path.join(base_dir, 'male_test') # creates validation directory\n",
    "os.mkdir(male_test_dir)"
   ]
  },
  {
   "cell_type": "code",
   "execution_count": 185,
   "metadata": {},
   "outputs": [],
   "source": [
    "male_train_positive_dir = os.path.join(male_train_dir, 'male_positive') # directory with positive training pictures\n",
    "os.mkdir(male_train_positive_dir)\n",
    "\n",
    "male_train_negative_dir = os.path.join(male_train_dir, 'male_negative') # directory with negative training pictures\n",
    "os.mkdir(male_train_negative_dir)\n",
    "\n",
    "male_validation_positive_dir = os.path.join(male_validation_dir, 'male_positive') # directory with positive validation pictures\n",
    "os.mkdir(male_validation_positive_dir)\n",
    "\n",
    "male_validation_negative_dir = os.path.join(male_validation_dir, 'male_negative') # directory with negative validation pictures\n",
    "os.mkdir(male_validation_negative_dir)\n",
    "\n",
    "male_test_positive_test_dir = os.path.join(male_test_dir, 'male_positive') # directory with positive test pictures\n",
    "os.mkdir(male_test_positive_test_dir)\n",
    "\n",
    "male_test_negative_test_dir = os.path.join(male_test_dir, 'male_negative') # directory with negative test pictures\n",
    "os.mkdir(male_test_negative_test_dir)"
   ]
  },
  {
   "cell_type": "code",
   "execution_count": 186,
   "metadata": {},
   "outputs": [],
   "source": [
    "female_train_dir = os.path.join(base_dir, 'female_train') # creates train directory\n",
    "os.mkdir(female_train_dir)\n",
    "\n",
    "female_validation_dir = os.path.join(base_dir, 'female_validation') # creates validation directory\n",
    "os.mkdir(female_validation_dir)\n",
    "\n",
    "female_test_dir = os.path.join(base_dir, 'female_test') # creates validation directory\n",
    "os.mkdir(female_test_dir)"
   ]
  },
  {
   "cell_type": "code",
   "execution_count": 187,
   "metadata": {},
   "outputs": [],
   "source": [
    "female_train_positive_dir = os.path.join(female_train_dir, 'female_positive') # directory with positive training pictures\n",
    "os.mkdir(female_train_positive_dir)\n",
    "\n",
    "female_train_negative_dir = os.path.join(female_train_dir, 'female_negative') # directory with negative training pictures\n",
    "os.mkdir(female_train_negative_dir)\n",
    "\n",
    "female_validation_positive_dir = os.path.join(female_validation_dir, 'female_positive') # directory with positive validation pictures\n",
    "os.mkdir(female_validation_positive_dir)\n",
    "\n",
    "female_validation_negative_dir = os.path.join(female_validation_dir, 'female_negative') # directory with negative validation pictures\n",
    "os.mkdir(female_validation_negative_dir)\n",
    "\n",
    "female_test_positive_test_dir = os.path.join(female_test_dir, 'female_positive') # directory with positive test pictures\n",
    "os.mkdir(female_test_positive_test_dir)\n",
    "\n",
    "female_test_negative_test_dir = os.path.join(female_test_dir, 'female_negative') # directory with negative test pictures\n",
    "os.mkdir(female_test_negative_test_dir)"
   ]
  },
  {
   "cell_type": "code",
   "execution_count": 188,
   "metadata": {},
   "outputs": [],
   "source": [
    "male_positive_test_imgs = [] # array for all the positive test images\n",
    "for filename in os.listdir(male_original_pos_test_dataset_dir): # iterates, puts all of the image dir in a list\n",
    "    img = (os.path.join(male_original_pos_test_dataset_dir,filename))\n",
    "    if img is not None:\n",
    "        male_positive_test_imgs.append(img)\n",
    "        \n",
    "# grabs the image numbers from all the directories \n",
    "# will use these numbers to place images in correct folders for model (train, validation, test)\n",
    "positive_test_imgs_numbers = []\n",
    "numbers = ['1','2','3','4','5','6','7','8','9','0']\n",
    "for pos_img in male_positive_test_imgs: \n",
    "    pos_img = pos_img.replace('CPSC_393','')\n",
    "    num = \"\"\n",
    "    for char in pos_img:\n",
    "        if char in numbers:\n",
    "            num = num + char\n",
    "    positive_test_imgs_numbers.append(num)\n",
    "\n",
    "\n",
    "# puts 500 the positive test images in the test directory\n",
    "male_positive_test_images = ['{}.jpg'.format(i) for i in positive_test_imgs_numbers] # used 0-999 for train\n",
    "for positive_name in male_positive_test_images:\n",
    "    src = os.path.join(male_original_pos_test_dataset_dir, positive_name)\n",
    "    dst = os.path.join(male_test_positive_test_dir, positive_name)\n",
    "    shutil.copyfile(src, dst)"
   ]
  },
  {
   "cell_type": "code",
   "execution_count": 189,
   "metadata": {},
   "outputs": [],
   "source": [
    "female_positive_test_imgs = [] # array for all the positive test images\n",
    "for filename in os.listdir(female_original_pos_test_dataset_dir): # iterates, puts all of the image dir in a list\n",
    "    img = (os.path.join(female_original_pos_test_dataset_dir,filename))\n",
    "    if img is not None:\n",
    "        female_positive_test_imgs.append(img)\n",
    "        \n",
    "# grabs the image numbers from all the directories \n",
    "# will use these numbers to place images in correct folders for model (train, validation, test)\n",
    "positive_test_imgs_numbers = []\n",
    "numbers = ['1','2','3','4','5','6','7','8','9','0']\n",
    "for pos_img in female_positive_test_imgs: \n",
    "    pos_img = pos_img.replace('CPSC_393','')\n",
    "    num = \"\"\n",
    "    for char in pos_img:\n",
    "        if char in numbers:\n",
    "            num = num + char\n",
    "    positive_test_imgs_numbers.append(num)\n",
    "\n",
    "\n",
    "# puts 500 the positive test images in the test directory\n",
    "female_positive_test_images = ['{}.jpg'.format(i) for i in positive_test_imgs_numbers] # used 0-999 for train\n",
    "for positive_name in female_positive_test_images:\n",
    "    src = os.path.join(female_original_pos_test_dataset_dir, positive_name)\n",
    "    dst = os.path.join(female_test_positive_test_dir, positive_name)\n",
    "    shutil.copyfile(src, dst)"
   ]
  },
  {
   "cell_type": "code",
   "execution_count": 190,
   "metadata": {},
   "outputs": [],
   "source": [
    "male_negative_test_imgs = [] # array for all the negative images\n",
    "for filename in os.listdir(male_original_neg_test_dataset_dir): # iterates and puts all of the image directories in a list\n",
    "    img = (os.path.join(male_original_neg_test_dataset_dir,filename))\n",
    "    if img is not None:\n",
    "        male_negative_test_imgs.append(img)\n",
    "        \n",
    "# grabs the image numbers from all the directories \n",
    "# will use these numbers to place images in correct folders for model (train, validation, test)\n",
    "negative_test_imgs_numbers = []\n",
    "numbers = ['1','2','3','4','5','6','7','8','9','0']\n",
    "for neg_img in male_negative_test_imgs: \n",
    "    neg_img = neg_img.replace('CPSC_393','')\n",
    "    num = \"\"\n",
    "    for char in neg_img:\n",
    "        if char in numbers:\n",
    "            num = num + char\n",
    "    negative_test_imgs_numbers.append(num)   \n",
    "\n",
    "# puts 500 of the negative test images in the test directory\n",
    "male_negative_test_images = ['{}.jpg'.format(i) for i in negative_test_imgs_numbers[10:1000]]\n",
    "for negative_name in male_negative_test_images:\n",
    "    src = os.path.join(male_original_neg_test_dataset_dir, negative_name)\n",
    "    dst = os.path.join(male_test_negative_test_dir, negative_name)\n",
    "    shutil.copyfile(src, dst)"
   ]
  },
  {
   "cell_type": "code",
   "execution_count": 191,
   "metadata": {},
   "outputs": [],
   "source": [
    "female_negative_test_imgs = [] # array for all the negative images\n",
    "for filename in os.listdir(female_original_neg_test_dataset_dir): # iterates and puts all of the image directories in a list\n",
    "    img = (os.path.join(female_original_neg_test_dataset_dir,filename))\n",
    "    if img is not None:\n",
    "        female_negative_test_imgs.append(img)\n",
    "        \n",
    "# grabs the image numbers from all the directories \n",
    "# will use these numbers to place images in correct folders for model (train, validation, test)\n",
    "negative_test_imgs_numbers = []\n",
    "numbers = ['1','2','3','4','5','6','7','8','9','0']\n",
    "for neg_img in female_negative_test_imgs: \n",
    "    neg_img = neg_img.replace('CPSC_393','')\n",
    "    num = \"\"\n",
    "    for char in neg_img:\n",
    "        if char in numbers:\n",
    "            num = num + char\n",
    "    negative_test_imgs_numbers.append(num)   \n",
    "\n",
    "# puts 500 of the negative test images in the test directory\n",
    "female_negative_test_images = ['{}.jpg'.format(i) for i in negative_test_imgs_numbers]\n",
    "for negative_name in female_negative_test_images:\n",
    "    src = os.path.join(female_original_neg_test_dataset_dir, negative_name)\n",
    "    dst = os.path.join(female_test_negative_test_dir, negative_name)\n",
    "    shutil.copyfile(src, dst)"
   ]
  },
  {
   "cell_type": "code",
   "execution_count": 192,
   "metadata": {},
   "outputs": [],
   "source": [
    "male_positive_imgs = [] # array for all the positive images\n",
    "for filename in os.listdir(male_original_pos_train_dataset_dir): # iterates and puts all of the image directories in a list\n",
    "    img = (os.path.join(male_original_pos_train_dataset_dir,filename))\n",
    "    if img is not None:\n",
    "        male_positive_imgs.append(img)\n",
    "        \n",
    "# grabs the image numbers from all the directories \n",
    "# will use these numbers to place images in correct folders for model (train, validation, test)\n",
    "positive_imgs_numbers = []\n",
    "numbers = ['1','2','3','4','5','6','7','8','9','0']\n",
    "for pos_img in male_positive_imgs: \n",
    "    pos_img = pos_img.replace('CPSC_393','')\n",
    "    num = \"\"\n",
    "    for char in pos_img:\n",
    "        if char in numbers:\n",
    "            num = num + char\n",
    "    positive_imgs_numbers.append(num)   \n",
    "\n",
    "# puts 1000 of the positive training images in the train directory\n",
    "male_positive_train_images = ['{}.jpg'.format(i) for i in positive_imgs_numbers[0:5000]]\n",
    "for positive_name in male_positive_train_images:\n",
    "    src = os.path.join(male_original_pos_train_dataset_dir, positive_name)\n",
    "    dst = os.path.join(male_train_positive_dir, positive_name)\n",
    "    shutil.copyfile(src, dst)"
   ]
  },
  {
   "cell_type": "code",
   "execution_count": 193,
   "metadata": {},
   "outputs": [],
   "source": [
    "female_positive_imgs = [] # array for all the positive images\n",
    "for filename in os.listdir(female_original_pos_train_dataset_dir): # iterates and puts all of the image directories in a list\n",
    "    img = (os.path.join(female_original_pos_train_dataset_dir,filename))\n",
    "    if img is not None:\n",
    "        female_positive_imgs.append(img)\n",
    "        \n",
    "# grabs the image numbers from all the directories \n",
    "# will use these numbers to place images in correct folders for model (train, validation, test)\n",
    "positive_imgs_numbers = []\n",
    "numbers = ['1','2','3','4','5','6','7','8','9','0']\n",
    "for pos_img in female_positive_imgs: \n",
    "    pos_img = pos_img.replace('CPSC_393','')\n",
    "    num = \"\"\n",
    "    for char in pos_img:\n",
    "        if char in numbers:\n",
    "            num = num + char\n",
    "    positive_imgs_numbers.append(num)   \n",
    "\n",
    "# puts 1000 of the positive training images in the train directory\n",
    "female_positive_train_images = ['{}.jpg'.format(i) for i in positive_imgs_numbers[0:5000]]\n",
    "for positive_name in female_positive_train_images:\n",
    "    src = os.path.join(female_original_pos_train_dataset_dir, positive_name)\n",
    "    dst = os.path.join(female_train_positive_dir, positive_name)\n",
    "    shutil.copyfile(src, dst)"
   ]
  },
  {
   "cell_type": "code",
   "execution_count": 194,
   "metadata": {},
   "outputs": [],
   "source": [
    "male_positive_validation_imgs = [] # array for all the positive validation images\n",
    "for filename in os.listdir(male_original_post_validation_dataset_dir): # iterates, puts all of the image dir in a list\n",
    "    img = (os.path.join(male_original_post_validation_dataset_dir,filename))\n",
    "    if img is not None:\n",
    "        male_positive_validation_imgs.append(img)\n",
    "        \n",
    "# grabs the image numbers from all the directories \n",
    "# will use these numbers to place images in correct folders for model (train, validation, test)\n",
    "positive_validation_imgs_numbers = []\n",
    "numbers = ['1','2','3','4','5','6','7','8','9','0']\n",
    "for pos_img in male_positive_validation_imgs: \n",
    "    pos_img = pos_img.replace('CPSC_393','')\n",
    "    num = \"\"\n",
    "    for char in pos_img:\n",
    "        if char in numbers:\n",
    "            num = num + char\n",
    "    positive_validation_imgs_numbers.append(num)\n",
    "\n",
    "\n",
    "# puts 500 the positive validation images in the validation directory\n",
    "male_positive_validation_images = ['{}.jpg'.format(i) for i in positive_validation_imgs_numbers[0:1000]]\n",
    "for positive_name in male_positive_validation_images:\n",
    "    src = os.path.join(male_original_post_validation_dataset_dir, positive_name)\n",
    "    dst = os.path.join(male_validation_positive_dir, positive_name)\n",
    "    shutil.copyfile(src, dst)"
   ]
  },
  {
   "cell_type": "code",
   "execution_count": 195,
   "metadata": {},
   "outputs": [],
   "source": [
    "female_positive_validation_imgs = [] # array for all the positive validation images\n",
    "for filename in os.listdir(female_original_post_validation_dataset_dir): # iterates, puts all of the image dir in a list\n",
    "    img = (os.path.join(female_original_post_validation_dataset_dir,filename))\n",
    "    if img is not None:\n",
    "        female_positive_validation_imgs.append(img)\n",
    "        \n",
    "# grabs the image numbers from all the directories \n",
    "# will use these numbers to place images in correct folders for model (train, validation, test)\n",
    "positive_validation_imgs_numbers = []\n",
    "numbers = ['1','2','3','4','5','6','7','8','9','0']\n",
    "for pos_img in female_positive_validation_imgs: \n",
    "    pos_img = pos_img.replace('CPSC_393','')\n",
    "    num = \"\"\n",
    "    for char in pos_img:\n",
    "        if char in numbers:\n",
    "            num = num + char\n",
    "    positive_validation_imgs_numbers.append(num)\n",
    "\n",
    "\n",
    "# puts 500 the positive validation images in the validation directory\n",
    "female_positive_validation_images = ['{}.jpg'.format(i) for i in positive_validation_imgs_numbers[0:1000]]\n",
    "for positive_name in female_positive_validation_images:\n",
    "    src = os.path.join(female_original_post_validation_dataset_dir, positive_name)\n",
    "    dst = os.path.join(female_validation_positive_dir, positive_name)\n",
    "    shutil.copyfile(src, dst)"
   ]
  },
  {
   "cell_type": "code",
   "execution_count": 196,
   "metadata": {},
   "outputs": [],
   "source": [
    "male_negative_imgs = [] # array for all the negative images\n",
    "for filename in os.listdir(male_original_neg_train_dataset_dir): # iterates and puts all of the image directories in a list\n",
    "    img = (os.path.join(male_original_neg_train_dataset_dir,filename))\n",
    "    if img is not None:\n",
    "        male_negative_imgs.append(img)\n",
    "        \n",
    "# grabs the image numbers from all the directories \n",
    "# will use these numbers to place images in correct folders for model (train, validation, test)\n",
    "negative_imgs_numbers = []\n",
    "numbers = ['1','2','3','4','5','6','7','8','9','0']\n",
    "for neg_img in male_negative_imgs: \n",
    "    neg_img = neg_img.replace('CPSC_393','')\n",
    "    num = \"\"\n",
    "    for char in neg_img:\n",
    "        if char in numbers:\n",
    "            num = num + char\n",
    "    negative_imgs_numbers.append(num)   \n",
    "\n",
    "# puts 1000 of the negative training images in the train directory\n",
    "male_negative_train_images = ['{}.jpg'.format(i) for i in negative_imgs_numbers[0:5000]]\n",
    "for negative_name in male_negative_train_images:\n",
    "    src = os.path.join(male_original_neg_train_dataset_dir, negative_name)\n",
    "    dst = os.path.join(male_train_negative_dir, negative_name)\n",
    "    shutil.copyfile(src, dst)"
   ]
  },
  {
   "cell_type": "code",
   "execution_count": 197,
   "metadata": {},
   "outputs": [],
   "source": [
    "female_negative_imgs = [] # array for all the negative images\n",
    "for filename in os.listdir(female_original_neg_train_dataset_dir): # iterates and puts all of the image directories in a list\n",
    "    img = (os.path.join(female_original_neg_train_dataset_dir,filename))\n",
    "    if img is not None:\n",
    "        female_negative_imgs.append(img)\n",
    "        \n",
    "# grabs the image numbers from all the directories \n",
    "# will use these numbers to place images in correct folders for model (train, validation, test)\n",
    "negative_imgs_numbers = []\n",
    "numbers = ['1','2','3','4','5','6','7','8','9','0']\n",
    "for neg_img in female_negative_imgs: \n",
    "    neg_img = neg_img.replace('CPSC_393','')\n",
    "    num = \"\"\n",
    "    for char in neg_img:\n",
    "        if char in numbers:\n",
    "            num = num + char\n",
    "    negative_imgs_numbers.append(num)   \n",
    "\n",
    "# puts 1000 of the negative training images in the train directory\n",
    "female_negative_train_images = ['{}.jpg'.format(i) for i in negative_imgs_numbers[0:5000]]\n",
    "for negative_name in female_negative_train_images:\n",
    "    src = os.path.join(female_original_neg_train_dataset_dir, negative_name)\n",
    "    dst = os.path.join(female_train_negative_dir, negative_name)\n",
    "    shutil.copyfile(src, dst)"
   ]
  },
  {
   "cell_type": "code",
   "execution_count": 198,
   "metadata": {},
   "outputs": [],
   "source": [
    "male_negative_validation_imgs = [] # array for all the negative images\n",
    "for filename in os.listdir(male_original_neg_validation_dataset_dir): # iterates and puts all of the image directories in a list\n",
    "    img = (os.path.join(male_original_neg_validation_dataset_dir,filename))\n",
    "    if img is not None:\n",
    "        male_negative_validation_imgs.append(img)\n",
    "        \n",
    "# grabs the image numbers from all the directories \n",
    "# will use these numbers to place images in correct folders for model (train, validation, test)\n",
    "negative_validation_imgs_numbers = []\n",
    "numbers = ['1','2','3','4','5','6','7','8','9','0']\n",
    "for neg_img in male_negative_validation_imgs: \n",
    "    neg_img = neg_img.replace('CPSC_393','')\n",
    "    num = \"\"\n",
    "    for char in neg_img:\n",
    "        if char in numbers:\n",
    "            num = num + char\n",
    "    negative_validation_imgs_numbers.append(num)   \n",
    "\n",
    "# puts 500 of the negative validation images in the validation directory\n",
    "male_negative_validation_images = ['{}.jpg'.format(i) for i in negative_validation_imgs_numbers[0:1000]]\n",
    "for negative_name in male_negative_validation_images:\n",
    "    src = os.path.join(male_original_neg_validation_dataset_dir, negative_name)\n",
    "    dst = os.path.join(male_validation_negative_dir, negative_name)\n",
    "    shutil.copyfile(src, dst)"
   ]
  },
  {
   "cell_type": "code",
   "execution_count": 199,
   "metadata": {},
   "outputs": [],
   "source": [
    "female_negative_validation_imgs = [] # array for all the negative images\n",
    "for filename in os.listdir(female_original_neg_validation_dataset_dir): # iterates and puts all of the image directories in a list\n",
    "    img = (os.path.join(female_original_neg_validation_dataset_dir,filename))\n",
    "    if img is not None:\n",
    "        female_negative_validation_imgs.append(img)\n",
    "        \n",
    "# grabs the image numbers from all the directories \n",
    "# will use these numbers to place images in correct folders for model (train, validation, test)\n",
    "negative_validation_imgs_numbers = []\n",
    "numbers = ['1','2','3','4','5','6','7','8','9','0']\n",
    "for neg_img in female_negative_validation_imgs: \n",
    "    neg_img = neg_img.replace('CPSC_393','')\n",
    "    num = \"\"\n",
    "    for char in neg_img:\n",
    "        if char in numbers:\n",
    "            num = num + char\n",
    "    negative_validation_imgs_numbers.append(num)   \n",
    "\n",
    "# puts 500 of the negative validation images in the validation directory\n",
    "female_negative_validation_images = ['{}.jpg'.format(i) for i in negative_validation_imgs_numbers[0:1000]]\n",
    "for negative_name in female_negative_validation_images:\n",
    "    src = os.path.join(female_original_neg_validation_dataset_dir, negative_name)\n",
    "    dst = os.path.join(female_validation_negative_dir, negative_name)\n",
    "    shutil.copyfile(src, dst)"
   ]
  },
  {
   "cell_type": "code",
   "execution_count": null,
   "metadata": {},
   "outputs": [],
   "source": []
  },
  {
   "cell_type": "code",
   "execution_count": 200,
   "metadata": {},
   "outputs": [],
   "source": [
    "from keras import layers\n",
    "from keras import models\n",
    "from keras import optimizers\n",
    "from keras.preprocessing.image import ImageDataGenerator"
   ]
  },
  {
   "cell_type": "code",
   "execution_count": 202,
   "metadata": {},
   "outputs": [
    {
     "name": "stdout",
     "output_type": "stream",
     "text": [
      "Found 40 images belonging to 2 classes.\n",
      "Found 20 images belonging to 2 classes.\n",
      "Epoch 1/5\n",
      "100/100 [==============================] - 15s 149ms/step - loss: 0.6542 - acc: 0.7465 - precision: 0.8578 - recall: 0.5910 - val_loss: 0.6844 - val_acc: 0.6000 - val_precision: 0.6000 - val_recall: 0.6000\n",
      "Epoch 2/5\n",
      "100/100 [==============================] - 14s 143ms/step - loss: 0.4799 - acc: 0.8700 - precision: 0.9066 - recall: 0.8250 - val_loss: 0.7209 - val_acc: 0.4500 - val_precision: 0.0000e+00 - val_recall: 0.0000e+00\n",
      "Epoch 3/5\n",
      "100/100 [==============================] - 16s 162ms/step - loss: 0.2736 - acc: 0.9435 - precision: 0.9723 - recall: 0.9130 - val_loss: 0.6799 - val_acc: 0.8000 - val_precision: 0.7143 - val_recall: 1.0000\n",
      "Epoch 4/5\n",
      "100/100 [==============================] - 15s 148ms/step - loss: 0.1266 - acc: 0.9835 - precision: 0.9939 - recall: 0.9730 - val_loss: 0.6598 - val_acc: 0.7000 - val_precision: 0.8333 - val_recall: 0.5000\n",
      "Epoch 5/5\n",
      "100/100 [==============================] - 14s 143ms/step - loss: 0.0441 - acc: 0.9960 - precision: 0.9970 - recall: 0.9950 - val_loss: 0.7676 - val_acc: 0.7000 - val_precision: 0.8333 - val_recall: 0.5000\n"
     ]
    }
   ],
   "source": [
    "male_model = models.Sequential()\n",
    "male_model.add(layers.Conv2D(32, (3, 3), activation='relu', \n",
    "input_shape=(48, 48, 3))) \n",
    "male_model.add(layers.MaxPooling2D((2, 2)))\n",
    "male_model.add(layers.Conv2D(64, (3, 3), activation='relu'))\n",
    "male_model.add(layers.MaxPooling2D((2, 2)))\n",
    "male_model.add(layers.Conv2D(128, (3, 3), activation='relu'))\n",
    "male_model.add(layers.MaxPooling2D((2, 2)))\n",
    "male_model.add(layers.Conv2D(128, (3, 3), activation='relu'))\n",
    "male_model.add(layers.MaxPooling2D((2, 2)))\n",
    "male_model.add(layers.Flatten())\n",
    "male_model.add(layers.Dense(512, activation='relu'))\n",
    "male_model.add(layers.Dense(1, activation='sigmoid'))\n",
    "\n",
    "male_metrics = [keras.metrics.BinaryAccuracy(name='acc'),\n",
    "           keras.metrics.Precision(name='precision'),\n",
    "           keras.metrics.Recall(name='recall')]\n",
    "\n",
    "male_model.compile(loss='binary_crossentropy',\n",
    "    optimizer=optimizers.RMSprop(lr=1e-4),\n",
    "    metrics=male_metrics)\n",
    "\n",
    "male_train_datagen = ImageDataGenerator(rescale=1./255)\n",
    "male_test_datagen = ImageDataGenerator(rescale=1./255)\n",
    "male_train_generator = male_train_datagen.flow_from_directory(\n",
    "    male_train_dir,\n",
    "    target_size=(48, 48),\n",
    "    batch_size=20,\n",
    "    class_mode='binary')\n",
    "\n",
    "male_validation_generator = male_test_datagen.flow_from_directory(\n",
    "    male_validation_dir,\n",
    "    target_size=(48, 48),\n",
    "    batch_size=20,\n",
    "    class_mode='binary')\n",
    "\n",
    "male_history = male_model.fit_generator(\n",
    "    male_train_generator,\n",
    "    steps_per_epoch=100,\n",
    "    epochs=5,\n",
    "    validation_data=male_validation_generator,\n",
    "    validation_steps=50)"
   ]
  },
  {
   "cell_type": "code",
   "execution_count": 204,
   "metadata": {},
   "outputs": [
    {
     "data": {
      "image/png": "[encoded data removed]",
      "text/plain": [
       "<Figure size 432x288 with 1 Axes>"
      ]
     },
     "metadata": {
      "needs_background": "light"
     },
     "output_type": "display_data"
    },
    {
     "data": {
      "image/png": "[encoded data removed]",
      "text/plain": [
       "<Figure size 432x288 with 1 Axes>"
      ]
     },
     "metadata": {
      "needs_background": "light"
     },
     "output_type": "display_data"
    }
   ],
   "source": [
    "import matplotlib.pyplot as plt\n",
    "\n",
    "acc = male_history.history['acc']\n",
    "val_acc = male_history.history['val_acc']\n",
    "loss = male_history.history['loss']\n",
    "val_loss = male_history.history['val_loss']\n",
    "precision = male_history.history['precision']\n",
    "recall = male_history.history['recall']\n",
    "\n",
    "epochs = range(1, len(acc) + 1)\n",
    "\n",
    "plt.plot(epochs, acc, 'bo', label='Training acc')\n",
    "plt.plot(epochs, val_acc, 'b', label='Validation acc')\n",
    "plt.title('Training and validation accuracy')\n",
    "plt.legend()\n",
    "\n",
    "plt.figure()\n",
    "\n",
    "plt.plot(epochs, loss, 'bo', label='Training loss')\n",
    "plt.plot(epochs, val_loss, 'b', label='Validation loss')\n",
    "plt.title('Training and validation loss')\n",
    "plt.legend()\n",
    "\n",
    "plt.show()"
   ]
  },
  {
   "cell_type": "code",
   "execution_count": 205,
   "metadata": {},
   "outputs": [
    {
     "name": "stdout",
     "output_type": "stream",
     "text": [
      "Max accuracy score for the model: 0.996\n",
      "Max validation accuracy score for the model 0.800000011920929\n",
      "Max Precision score for the model: 0.99699396\n",
      "Max Recall score for the model: 0.995\n"
     ]
    }
   ],
   "source": [
    "print(\"Max accuracy score for the model:\", max(acc))\n",
    "print(\"Max validation accuracy score for the model\", max(val_acc))\n",
    "print(\"Max Precision score for the model:\", max(precision))\n",
    "print(\"Max Recall score for the model:\", max(recall))"
   ]
  },
  {
   "cell_type": "code",
   "execution_count": null,
   "metadata": {},
   "outputs": [],
   "source": [
    "male_model = models.Sequential()\n",
    "male_model.add(layers.Conv2D(32, (3, 3), activation='relu', \n",
    "input_shape=(48, 48, 3))) \n",
    "male_model.add(layers.MaxPooling2D((2, 2)))\n",
    "male_model.add(layers.Conv2D(64, (3, 3), activation='relu'))\n",
    "male_model.add(layers.MaxPooling2D((2, 2)))\n",
    "male_model.add(layers.Conv2D(128, (3, 3), activation='relu'))\n",
    "male_model.add(layers.MaxPooling2D((2, 2)))\n",
    "male_model.add(layers.Conv2D(128, (3, 3), activation='relu'))\n",
    "male_model.add(layers.MaxPooling2D((2, 2)))\n",
    "male_model.add(layers.Flatten())\n",
    "male_model.add(layers.Dense(512, activation='relu'))\n",
    "male_model.add(layers.Dense(1, activation='sigmoid'))\n",
    "\n",
    "male_metrics = [keras.metrics.BinaryAccuracy(name='acc'),\n",
    "           keras.metrics.Precision(name='precision'),\n",
    "           keras.metrics.Recall(name='recall')]\n",
    "\n",
    "male_model.compile(loss='binary_crossentropy',\n",
    "    optimizer=optimizers.RMSprop(lr=1e-4),\n",
    "    metrics=male_metrics)\n",
    "\n",
    "male_train_datagen = ImageDataGenerator(rescale=1./255)\n",
    "male_test_datagen = ImageDataGenerator(rescale=1./255)\n",
    "male_train_generator = male_train_datagen.flow_from_directory(\n",
    "    male_train_dir,\n",
    "    target_size=(48, 48),\n",
    "    batch_size=20,\n",
    "    class_mode='binary')\n",
    "\n",
    "male_validation_generator = male_test_datagen.flow_from_directory(\n",
    "    male_validation_dir,\n",
    "    target_size=(48, 48),\n",
    "    batch_size=20,\n",
    "    class_mode='binary')\n",
    "\n",
    "male_history = male_model.fit_generator(\n",
    "    male_train_generator,\n",
    "    steps_per_epoch=100,\n",
    "    epochs=30,\n",
    "    validation_data=male_validation_generator,\n",
    "    validation_steps=50)"
   ]
  },
  {
   "cell_type": "code",
   "execution_count": null,
   "metadata": {},
   "outputs": [],
   "source": [
    "import matplotlib.pyplot as plt\n",
    "\n",
    "acc = history.history['acc']\n",
    "val_acc = history.history['val_acc']\n",
    "loss = history.history['loss']\n",
    "val_loss = history.history['val_loss']\n",
    "precision = history.history['precision']\n",
    "recall = history.history['recall']\n",
    "\n",
    "epochs = range(1, len(acc) + 1)\n",
    "\n",
    "plt.plot(epochs, acc, 'bo', label='Training acc')\n",
    "plt.plot(epochs, val_acc, 'b', label='Validation acc')\n",
    "plt.title('Training and validation accuracy')\n",
    "plt.legend()\n",
    "\n",
    "plt.figure()\n",
    "\n",
    "plt.plot(epochs, loss, 'bo', label='Training loss')\n",
    "plt.plot(epochs, val_loss, 'b', label='Validation loss')\n",
    "plt.title('Training and validation loss')\n",
    "plt.legend()\n",
    "\n",
    "plt.show()"
   ]
  }
 ],
 "metadata": {
  "kernelspec": {
   "display_name": "Python 3",
   "language": "python",
   "name": "python3"
  },
  "language_info": {
   "codemirror_mode": {
    "name": "ipython",
    "version": 3
   },
   "file_extension": ".py",
   "mimetype": "text/x-python",
   "name": "python",
   "nbconvert_exporter": "python",
   "pygments_lexer": "ipython3",
   "version": "3.7.4"
  }
 },
 "nbformat": 4,
 "nbformat_minor": 2
}
